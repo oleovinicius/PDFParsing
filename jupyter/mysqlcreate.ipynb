{
 "cells": [
  {
   "cell_type": "markdown",
   "metadata": {},
   "source": [
    "# Criação do banco de dados que vai ser usado"
   ]
  },
  {
   "cell_type": "code",
   "execution_count": 3,
   "metadata": {},
   "outputs": [],
   "source": [
    "import mysql.connector\n",
    "\n",
    "mydb = mysql.connector.connect(\n",
    "  host=\"localhost\",\n",
    "  user=\"root\",\n",
    "  password=\"jude\"\n",
    ")\n",
    "\n",
    "mycursor = mydb.cursor()\n",
    "\n",
    "mycursor.execute(\"CREATE DATABASE dadosAlunos\")"
   ]
  },
  {
   "cell_type": "markdown",
   "metadata": {},
   "source": [
    "## Criação das tabelas"
   ]
  },
  {
   "cell_type": "markdown",
   "metadata": {},
   "source": [
    "listaAluno = [(ra, nome_aluno,data_nascimento,rg_aluno,cpf_aluno,curso,periodo,expCarteirinha,valCarteirinha,faculdade,rua,telefone,'','')]"
   ]
  },
  {
   "cell_type": "code",
   "execution_count": 9,
   "metadata": {},
   "outputs": [
    {
     "ename": "ProgrammingError",
     "evalue": "1050 (42S01): Table 'alunos' already exists",
     "output_type": "error",
     "traceback": [
      "\u001b[1;31m---------------------------------------------------------------------------\u001b[0m",
      "\u001b[1;31mMySQLInterfaceError\u001b[0m                       Traceback (most recent call last)",
      "File \u001b[1;32m~\\Envs\\pdfparsingenv\\lib\\site-packages\\mysql\\connector\\connection_cext.py:523\u001b[0m, in \u001b[0;36mCMySQLConnection.cmd_query\u001b[1;34m(self, query, raw, buffered, raw_as_string)\u001b[0m\n\u001b[0;32m    <a href='file:///c%3A/Users/Leo/Envs/pdfparsingenv/lib/site-packages/mysql/connector/connection_cext.py?line=521'>522</a>\u001b[0m         query \u001b[39m=\u001b[39m query\u001b[39m.\u001b[39mencode(\u001b[39m'\u001b[39m\u001b[39mutf-8\u001b[39m\u001b[39m'\u001b[39m)\n\u001b[1;32m--> <a href='file:///c%3A/Users/Leo/Envs/pdfparsingenv/lib/site-packages/mysql/connector/connection_cext.py?line=522'>523</a>\u001b[0m     \u001b[39mself\u001b[39;49m\u001b[39m.\u001b[39;49m_cmysql\u001b[39m.\u001b[39;49mquery(query,\n\u001b[0;32m    <a href='file:///c%3A/Users/Leo/Envs/pdfparsingenv/lib/site-packages/mysql/connector/connection_cext.py?line=523'>524</a>\u001b[0m                        raw\u001b[39m=\u001b[39;49mraw, buffered\u001b[39m=\u001b[39;49mbuffered,\n\u001b[0;32m    <a href='file:///c%3A/Users/Leo/Envs/pdfparsingenv/lib/site-packages/mysql/connector/connection_cext.py?line=524'>525</a>\u001b[0m                        raw_as_string\u001b[39m=\u001b[39;49mraw_as_string,\n\u001b[0;32m    <a href='file:///c%3A/Users/Leo/Envs/pdfparsingenv/lib/site-packages/mysql/connector/connection_cext.py?line=525'>526</a>\u001b[0m                        query_attrs\u001b[39m=\u001b[39;49m\u001b[39mself\u001b[39;49m\u001b[39m.\u001b[39;49m_query_attrs)\n\u001b[0;32m    <a href='file:///c%3A/Users/Leo/Envs/pdfparsingenv/lib/site-packages/mysql/connector/connection_cext.py?line=526'>527</a>\u001b[0m \u001b[39mexcept\u001b[39;00m MySQLInterfaceError \u001b[39mas\u001b[39;00m exc:\n",
      "\u001b[1;31mMySQLInterfaceError\u001b[0m: Table 'alunos' already exists",
      "\nDuring handling of the above exception, another exception occurred:\n",
      "\u001b[1;31mProgrammingError\u001b[0m                          Traceback (most recent call last)",
      "\u001b[1;32mc:\\Users\\Leo\\Documents\\code\\parsiingpdftomysql\\mysqlcreate.ipynb Cell 5'\u001b[0m in \u001b[0;36m<cell line: 9>\u001b[1;34m()\u001b[0m\n\u001b[0;32m      <a href='vscode-notebook-cell:/c%3A/Users/Leo/Documents/code/parsiingpdftomysql/mysqlcreate.ipynb#ch0000006?line=0'>1</a>\u001b[0m mydb \u001b[39m=\u001b[39m mysql\u001b[39m.\u001b[39mconnector\u001b[39m.\u001b[39mconnect(\n\u001b[0;32m      <a href='vscode-notebook-cell:/c%3A/Users/Leo/Documents/code/parsiingpdftomysql/mysqlcreate.ipynb#ch0000006?line=1'>2</a>\u001b[0m   host\u001b[39m=\u001b[39m\u001b[39m\"\u001b[39m\u001b[39mlocalhost\u001b[39m\u001b[39m\"\u001b[39m,\n\u001b[0;32m      <a href='vscode-notebook-cell:/c%3A/Users/Leo/Documents/code/parsiingpdftomysql/mysqlcreate.ipynb#ch0000006?line=2'>3</a>\u001b[0m   user\u001b[39m=\u001b[39m\u001b[39m\"\u001b[39m\u001b[39mroot\u001b[39m\u001b[39m\"\u001b[39m,\n\u001b[0;32m      <a href='vscode-notebook-cell:/c%3A/Users/Leo/Documents/code/parsiingpdftomysql/mysqlcreate.ipynb#ch0000006?line=3'>4</a>\u001b[0m   password\u001b[39m=\u001b[39m\u001b[39m\"\u001b[39m\u001b[39mjude\u001b[39m\u001b[39m\"\u001b[39m,\n\u001b[0;32m      <a href='vscode-notebook-cell:/c%3A/Users/Leo/Documents/code/parsiingpdftomysql/mysqlcreate.ipynb#ch0000006?line=4'>5</a>\u001b[0m   database\u001b[39m=\u001b[39m\u001b[39m\"\u001b[39m\u001b[39mdadosAlunos\u001b[39m\u001b[39m\"\u001b[39m\n\u001b[0;32m      <a href='vscode-notebook-cell:/c%3A/Users/Leo/Documents/code/parsiingpdftomysql/mysqlcreate.ipynb#ch0000006?line=5'>6</a>\u001b[0m )\n\u001b[0;32m      <a href='vscode-notebook-cell:/c%3A/Users/Leo/Documents/code/parsiingpdftomysql/mysqlcreate.ipynb#ch0000006?line=6'>7</a>\u001b[0m mycursor \u001b[39m=\u001b[39m mydb\u001b[39m.\u001b[39mcursor()\n\u001b[1;32m----> <a href='vscode-notebook-cell:/c%3A/Users/Leo/Documents/code/parsiingpdftomysql/mysqlcreate.ipynb#ch0000006?line=8'>9</a>\u001b[0m mycursor\u001b[39m.\u001b[39;49mexecute(\u001b[39m\"\"\"\u001b[39;49m\u001b[39mCREATE TABLE \u001b[39;49m\n\u001b[0;32m     <a href='vscode-notebook-cell:/c%3A/Users/Leo/Documents/code/parsiingpdftomysql/mysqlcreate.ipynb#ch0000006?line=9'>10</a>\u001b[0m \u001b[39malunos (\u001b[39;49m\n\u001b[0;32m     <a href='vscode-notebook-cell:/c%3A/Users/Leo/Documents/code/parsiingpdftomysql/mysqlcreate.ipynb#ch0000006?line=10'>11</a>\u001b[0m \u001b[39m    ra int(15),\u001b[39;49m\n\u001b[0;32m     <a href='vscode-notebook-cell:/c%3A/Users/Leo/Documents/code/parsiingpdftomysql/mysqlcreate.ipynb#ch0000006?line=11'>12</a>\u001b[0m \u001b[39m    nome_aluno VARCHAR(255),\u001b[39;49m\n\u001b[0;32m     <a href='vscode-notebook-cell:/c%3A/Users/Leo/Documents/code/parsiingpdftomysql/mysqlcreate.ipynb#ch0000006?line=12'>13</a>\u001b[0m \u001b[39m    data_nascimento VARCHAR(255),\u001b[39;49m\n\u001b[0;32m     <a href='vscode-notebook-cell:/c%3A/Users/Leo/Documents/code/parsiingpdftomysql/mysqlcreate.ipynb#ch0000006?line=13'>14</a>\u001b[0m \u001b[39m    rg_aluno VARCHAR(10),\u001b[39;49m\n\u001b[0;32m     <a href='vscode-notebook-cell:/c%3A/Users/Leo/Documents/code/parsiingpdftomysql/mysqlcreate.ipynb#ch0000006?line=14'>15</a>\u001b[0m \u001b[39m    cpf_aluno VARCHAR(13),\u001b[39;49m\n\u001b[0;32m     <a href='vscode-notebook-cell:/c%3A/Users/Leo/Documents/code/parsiingpdftomysql/mysqlcreate.ipynb#ch0000006?line=15'>16</a>\u001b[0m \u001b[39m    curso VARCHAR(200),\u001b[39;49m\n\u001b[0;32m     <a href='vscode-notebook-cell:/c%3A/Users/Leo/Documents/code/parsiingpdftomysql/mysqlcreate.ipynb#ch0000006?line=16'>17</a>\u001b[0m \u001b[39m    periodo VARCHAR(50),\u001b[39;49m\n\u001b[0;32m     <a href='vscode-notebook-cell:/c%3A/Users/Leo/Documents/code/parsiingpdftomysql/mysqlcreate.ipynb#ch0000006?line=17'>18</a>\u001b[0m \u001b[39m    expCarteirinha VARCHAR(15),\u001b[39;49m\n\u001b[0;32m     <a href='vscode-notebook-cell:/c%3A/Users/Leo/Documents/code/parsiingpdftomysql/mysqlcreate.ipynb#ch0000006?line=18'>19</a>\u001b[0m \u001b[39m    valCarteirinha VARCHAR(15),\u001b[39;49m\n\u001b[0;32m     <a href='vscode-notebook-cell:/c%3A/Users/Leo/Documents/code/parsiingpdftomysql/mysqlcreate.ipynb#ch0000006?line=19'>20</a>\u001b[0m \u001b[39m    faculdade VARCHAR(300),\u001b[39;49m\n\u001b[0;32m     <a href='vscode-notebook-cell:/c%3A/Users/Leo/Documents/code/parsiingpdftomysql/mysqlcreate.ipynb#ch0000006?line=20'>21</a>\u001b[0m \u001b[39m    rua VARCHAR(300),\u001b[39;49m\n\u001b[0;32m     <a href='vscode-notebook-cell:/c%3A/Users/Leo/Documents/code/parsiingpdftomysql/mysqlcreate.ipynb#ch0000006?line=21'>22</a>\u001b[0m \u001b[39m    telefone VARCHAR(30),\u001b[39;49m\n\u001b[0;32m     <a href='vscode-notebook-cell:/c%3A/Users/Leo/Documents/code/parsiingpdftomysql/mysqlcreate.ipynb#ch0000006?line=22'>23</a>\u001b[0m \u001b[39m    qrCode Mediumblob,\u001b[39;49m\n\u001b[0;32m     <a href='vscode-notebook-cell:/c%3A/Users/Leo/Documents/code/parsiingpdftomysql/mysqlcreate.ipynb#ch0000006?line=23'>24</a>\u001b[0m \u001b[39m    foto Mediumblob\u001b[39;49m\n\u001b[0;32m     <a href='vscode-notebook-cell:/c%3A/Users/Leo/Documents/code/parsiingpdftomysql/mysqlcreate.ipynb#ch0000006?line=24'>25</a>\u001b[0m \n\u001b[0;32m     <a href='vscode-notebook-cell:/c%3A/Users/Leo/Documents/code/parsiingpdftomysql/mysqlcreate.ipynb#ch0000006?line=25'>26</a>\u001b[0m \u001b[39m    )\u001b[39;49m\u001b[39m\"\"\"\u001b[39;49m)\n",
      "File \u001b[1;32m~\\Envs\\pdfparsingenv\\lib\\site-packages\\mysql\\connector\\cursor_cext.py:269\u001b[0m, in \u001b[0;36mCMySQLCursor.execute\u001b[1;34m(self, operation, params, multi)\u001b[0m\n\u001b[0;32m    <a href='file:///c%3A/Users/Leo/Envs/pdfparsingenv/lib/site-packages/mysql/connector/cursor_cext.py?line=264'>265</a>\u001b[0m             \u001b[39mraise\u001b[39;00m errors\u001b[39m.\u001b[39mProgrammingError(\n\u001b[0;32m    <a href='file:///c%3A/Users/Leo/Envs/pdfparsingenv/lib/site-packages/mysql/connector/cursor_cext.py?line=265'>266</a>\u001b[0m                 \u001b[39m\"\u001b[39m\u001b[39mNot all parameters were used in the SQL statement\u001b[39m\u001b[39m\"\u001b[39m)\n\u001b[0;32m    <a href='file:///c%3A/Users/Leo/Envs/pdfparsingenv/lib/site-packages/mysql/connector/cursor_cext.py?line=267'>268</a>\u001b[0m \u001b[39mtry\u001b[39;00m:\n\u001b[1;32m--> <a href='file:///c%3A/Users/Leo/Envs/pdfparsingenv/lib/site-packages/mysql/connector/cursor_cext.py?line=268'>269</a>\u001b[0m     result \u001b[39m=\u001b[39m \u001b[39mself\u001b[39;49m\u001b[39m.\u001b[39;49m_cnx\u001b[39m.\u001b[39;49mcmd_query(stmt, raw\u001b[39m=\u001b[39;49m\u001b[39mself\u001b[39;49m\u001b[39m.\u001b[39;49m_raw,\n\u001b[0;32m    <a href='file:///c%3A/Users/Leo/Envs/pdfparsingenv/lib/site-packages/mysql/connector/cursor_cext.py?line=269'>270</a>\u001b[0m                                  buffered\u001b[39m=\u001b[39;49m\u001b[39mself\u001b[39;49m\u001b[39m.\u001b[39;49m_buffered,\n\u001b[0;32m    <a href='file:///c%3A/Users/Leo/Envs/pdfparsingenv/lib/site-packages/mysql/connector/cursor_cext.py?line=270'>271</a>\u001b[0m                                  raw_as_string\u001b[39m=\u001b[39;49m\u001b[39mself\u001b[39;49m\u001b[39m.\u001b[39;49m_raw_as_string)\n\u001b[0;32m    <a href='file:///c%3A/Users/Leo/Envs/pdfparsingenv/lib/site-packages/mysql/connector/cursor_cext.py?line=271'>272</a>\u001b[0m \u001b[39mexcept\u001b[39;00m MySQLInterfaceError \u001b[39mas\u001b[39;00m exc:\n\u001b[0;32m    <a href='file:///c%3A/Users/Leo/Envs/pdfparsingenv/lib/site-packages/mysql/connector/cursor_cext.py?line=272'>273</a>\u001b[0m     \u001b[39mraise\u001b[39;00m errors\u001b[39m.\u001b[39mget_mysql_exception(msg\u001b[39m=\u001b[39mexc\u001b[39m.\u001b[39mmsg, errno\u001b[39m=\u001b[39mexc\u001b[39m.\u001b[39merrno,\n\u001b[0;32m    <a href='file:///c%3A/Users/Leo/Envs/pdfparsingenv/lib/site-packages/mysql/connector/cursor_cext.py?line=273'>274</a>\u001b[0m                                      sqlstate\u001b[39m=\u001b[39mexc\u001b[39m.\u001b[39msqlstate)\n",
      "File \u001b[1;32m~\\Envs\\pdfparsingenv\\lib\\site-packages\\mysql\\connector\\connection_cext.py:528\u001b[0m, in \u001b[0;36mCMySQLConnection.cmd_query\u001b[1;34m(self, query, raw, buffered, raw_as_string)\u001b[0m\n\u001b[0;32m    <a href='file:///c%3A/Users/Leo/Envs/pdfparsingenv/lib/site-packages/mysql/connector/connection_cext.py?line=522'>523</a>\u001b[0m     \u001b[39mself\u001b[39m\u001b[39m.\u001b[39m_cmysql\u001b[39m.\u001b[39mquery(query,\n\u001b[0;32m    <a href='file:///c%3A/Users/Leo/Envs/pdfparsingenv/lib/site-packages/mysql/connector/connection_cext.py?line=523'>524</a>\u001b[0m                        raw\u001b[39m=\u001b[39mraw, buffered\u001b[39m=\u001b[39mbuffered,\n\u001b[0;32m    <a href='file:///c%3A/Users/Leo/Envs/pdfparsingenv/lib/site-packages/mysql/connector/connection_cext.py?line=524'>525</a>\u001b[0m                        raw_as_string\u001b[39m=\u001b[39mraw_as_string,\n\u001b[0;32m    <a href='file:///c%3A/Users/Leo/Envs/pdfparsingenv/lib/site-packages/mysql/connector/connection_cext.py?line=525'>526</a>\u001b[0m                        query_attrs\u001b[39m=\u001b[39m\u001b[39mself\u001b[39m\u001b[39m.\u001b[39m_query_attrs)\n\u001b[0;32m    <a href='file:///c%3A/Users/Leo/Envs/pdfparsingenv/lib/site-packages/mysql/connector/connection_cext.py?line=526'>527</a>\u001b[0m \u001b[39mexcept\u001b[39;00m MySQLInterfaceError \u001b[39mas\u001b[39;00m exc:\n\u001b[1;32m--> <a href='file:///c%3A/Users/Leo/Envs/pdfparsingenv/lib/site-packages/mysql/connector/connection_cext.py?line=527'>528</a>\u001b[0m     \u001b[39mraise\u001b[39;00m errors\u001b[39m.\u001b[39mget_mysql_exception(exc\u001b[39m.\u001b[39merrno, msg\u001b[39m=\u001b[39mexc\u001b[39m.\u001b[39mmsg,\n\u001b[0;32m    <a href='file:///c%3A/Users/Leo/Envs/pdfparsingenv/lib/site-packages/mysql/connector/connection_cext.py?line=528'>529</a>\u001b[0m                                      sqlstate\u001b[39m=\u001b[39mexc\u001b[39m.\u001b[39msqlstate)\n\u001b[0;32m    <a href='file:///c%3A/Users/Leo/Envs/pdfparsingenv/lib/site-packages/mysql/connector/connection_cext.py?line=529'>530</a>\u001b[0m \u001b[39mexcept\u001b[39;00m \u001b[39mAttributeError\u001b[39;00m:\n\u001b[0;32m    <a href='file:///c%3A/Users/Leo/Envs/pdfparsingenv/lib/site-packages/mysql/connector/connection_cext.py?line=530'>531</a>\u001b[0m     \u001b[39mif\u001b[39;00m \u001b[39mself\u001b[39m\u001b[39m.\u001b[39m_unix_socket:\n",
      "\u001b[1;31mProgrammingError\u001b[0m: 1050 (42S01): Table 'alunos' already exists"
     ]
    }
   ],
   "source": [
    "mydb = mysql.connector.connect(\n",
    "  host=\"localhost\",\n",
    "  user=\"root\",\n",
    "  password=\"jude\",\n",
    "  database=\"dadosAlunos\"\n",
    ")\n",
    "mycursor = mydb.cursor()\n",
    "\n",
    "mycursor.execute(\"\"\"CREATE TABLE \n",
    "alunos (\n",
    "    ra int(15),\n",
    "    nome_aluno VARCHAR(255),\n",
    "    data_nascimento VARCHAR(255),\n",
    "    rg_aluno VARCHAR(10),\n",
    "    cpf_aluno VARCHAR(13),\n",
    "    curso VARCHAR(200),\n",
    "    periodo VARCHAR(50),\n",
    "    expCarteirinha VARCHAR(15),\n",
    "    valCarteirinha VARCHAR(15),\n",
    "    faculdade VARCHAR(300),\n",
    "    rua VARCHAR(300),\n",
    "    telefone VARCHAR(30),\n",
    "    qrCode Mediumblob,\n",
    "    foto Mediumblob\n",
    "\n",
    "    )\"\"\")"
   ]
  }
 ],
 "metadata": {
  "interpreter": {
   "hash": "bc067272fb9bde0ae297d24067dde9ef56c799ecc91635188f82355b304247ee"
  },
  "kernelspec": {
   "display_name": "Python 3.9.10 ('pdfparsingenv')",
   "language": "python",
   "name": "python3"
  },
  "language_info": {
   "codemirror_mode": {
    "name": "ipython",
    "version": 3
   },
   "file_extension": ".py",
   "mimetype": "text/x-python",
   "name": "python",
   "nbconvert_exporter": "python",
   "pygments_lexer": "ipython3",
   "version": "3.9.10"
  },
  "orig_nbformat": 4
 },
 "nbformat": 4,
 "nbformat_minor": 2
}
