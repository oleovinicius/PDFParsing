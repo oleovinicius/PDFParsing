{
 "cells": [
  {
   "cell_type": "markdown",
   "metadata": {},
   "source": [
    "Para criar a venv usei: mkvirtualenv pdfparsingenv\n",
    "Para liberar o acesso no powershell usei:Set-ExecutionPolicy -Scope CurrentUser -ExecutionPolicy RemoteSigned\n",
    "Para Ativar a env usei: C:\\Users\\Leo\\Envs\\pdfparsingenv\\Scripts\\activate.ps1"
   ]
  },
  {
   "cell_type": "code",
   "execution_count": null,
   "metadata": {},
   "outputs": [],
   "source": [
    "#terminal\n",
    "pip installl tabula-py\n",
    "\n",
    "pip install pandas"
   ]
  },
  {
   "cell_type": "code",
   "execution_count": 1,
   "metadata": {},
   "outputs": [],
   "source": [
    "import tabula\n",
    "#the pd is the standard shorthand for pandas\n",
    "import pandas as pd\n",
    "from natsort import natsorted\n",
    "import PIL\n",
    "import PIL.Image\n",
    "import base64\n",
    "from PIL import Image\n",
    "from io import BytesIO"
   ]
  },
  {
   "cell_type": "code",
   "execution_count": 2,
   "metadata": {},
   "outputs": [],
   "source": [
    "#declare the path of your file\n",
    "file_path = r\"pdftoparsing.pdf\"\n",
    "#Convert your file\n",
    "df = tabula.read_pdf(file_path, pages='all',multiple_tables=True)"
   ]
  },
  {
   "cell_type": "code",
   "execution_count": 3,
   "metadata": {},
   "outputs": [
    {
     "data": {
      "text/html": [
       "<div>\n",
       "<style scoped>\n",
       "    .dataframe tbody tr th:only-of-type {\n",
       "        vertical-align: middle;\n",
       "    }\n",
       "\n",
       "    .dataframe tbody tr th {\n",
       "        vertical-align: top;\n",
       "    }\n",
       "\n",
       "    .dataframe thead th {\n",
       "        text-align: right;\n",
       "    }\n",
       "</style>\n",
       "<table border=\"1\" class=\"dataframe\">\n",
       "  <thead>\n",
       "    <tr style=\"text-align: right;\">\n",
       "      <th></th>\n",
       "      <th>Unnamed: 0</th>\n",
       "      <th>Unnamed: 1</th>\n",
       "      <th>RUA ARIOVALDO SILVEIRA FRANCO, 567 - JD 31 DE MARÇO</th>\n",
       "    </tr>\n",
       "  </thead>\n",
       "  <tbody>\n",
       "    <tr>\n",
       "      <th>0</th>\n",
       "      <td>Faculdade de Tecnologia de Mogi Mirim \"Arthur de</td>\n",
       "      <td>NaN</td>\n",
       "      <td>NaN</td>\n",
       "    </tr>\n",
       "    <tr>\n",
       "      <th>1</th>\n",
       "      <td>NaN</td>\n",
       "      <td>NaN</td>\n",
       "      <td>CEP: 13801-005 - Mogi Mirim/SP</td>\n",
       "    </tr>\n",
       "    <tr>\n",
       "      <th>2</th>\n",
       "      <td>Azevedo\"</td>\n",
       "      <td>NaN</td>\n",
       "      <td>NaN</td>\n",
       "    </tr>\n",
       "    <tr>\n",
       "      <th>3</th>\n",
       "      <td>NaN</td>\n",
       "      <td>NaN</td>\n",
       "      <td>Tel: 19 3806-3139</td>\n",
       "    </tr>\n",
       "    <tr>\n",
       "      <th>4</th>\n",
       "      <td>LEONARDO VINÍCIUS DA SILVA</td>\n",
       "      <td>NaN</td>\n",
       "      <td>NaN</td>\n",
       "    </tr>\n",
       "    <tr>\n",
       "      <th>5</th>\n",
       "      <td>Curso Superior de Tecnologia em Análise e Dese...</td>\n",
       "      <td>NaN</td>\n",
       "      <td>NaN</td>\n",
       "    </tr>\n",
       "    <tr>\n",
       "      <th>6</th>\n",
       "      <td>Sistemas</td>\n",
       "      <td>NaN</td>\n",
       "      <td>NaN</td>\n",
       "    </tr>\n",
       "    <tr>\n",
       "      <th>7</th>\n",
       "      <td>PERÍODO *1630481813020*RG Noite 549672916 CPF</td>\n",
       "      <td>45079019875</td>\n",
       "      <td>NaN</td>\n",
       "    </tr>\n",
       "    <tr>\n",
       "      <th>8</th>\n",
       "      <td>RA: 1630481813020 NASCIMENTO</td>\n",
       "      <td>08/09/1998</td>\n",
       "      <td>NaN</td>\n",
       "    </tr>\n",
       "    <tr>\n",
       "      <th>9</th>\n",
       "      <td>EXPEDIÇÃO 22/03/22 VALIDADE</td>\n",
       "      <td>21/03/25</td>\n",
       "      <td>NaN</td>\n",
       "    </tr>\n",
       "  </tbody>\n",
       "</table>\n",
       "</div>"
      ],
      "text/plain": [
       "                                          Unnamed: 0   Unnamed: 1  \\\n",
       "0   Faculdade de Tecnologia de Mogi Mirim \"Arthur de          NaN   \n",
       "1                                                NaN          NaN   \n",
       "2                                           Azevedo\"          NaN   \n",
       "3                                                NaN          NaN   \n",
       "4                         LEONARDO VINÍCIUS DA SILVA          NaN   \n",
       "5  Curso Superior de Tecnologia em Análise e Dese...          NaN   \n",
       "6                                           Sistemas          NaN   \n",
       "7      PERÍODO *1630481813020*RG Noite 549672916 CPF  45079019875   \n",
       "8                       RA: 1630481813020 NASCIMENTO   08/09/1998   \n",
       "9                        EXPEDIÇÃO 22/03/22 VALIDADE     21/03/25   \n",
       "\n",
       "  RUA ARIOVALDO SILVEIRA FRANCO, 567 - JD 31 DE MARÇO  \n",
       "0                                                NaN   \n",
       "1                     CEP: 13801-005 - Mogi Mirim/SP   \n",
       "2                                                NaN   \n",
       "3                                  Tel: 19 3806-3139   \n",
       "4                                                NaN   \n",
       "5                                                NaN   \n",
       "6                                                NaN   \n",
       "7                                                NaN   \n",
       "8                                                NaN   \n",
       "9                                                NaN   "
      ]
     },
     "execution_count": 3,
     "metadata": {},
     "output_type": "execute_result"
    }
   ],
   "source": [
    "df[1]"
   ]
  },
  {
   "cell_type": "code",
   "execution_count": 4,
   "metadata": {},
   "outputs": [],
   "source": [
    "dfFinal = pd.DataFrame( columns= ['ra', 'nome_aluno','data_nascimento','rg_aluno','cpf_aluno','curso','periodo','expCarteirinha','valCarteirinha','faculdade','rua','telefone','foto','qrcode'])\n",
    "for i in range(len(df)):\n",
    "    ##CORREÇÕES##\n",
    "    ra_error = df[i].iloc[8][0]\n",
    "    ra_error = [ra_error.split()]\n",
    "    ra= ra_error[0][1]\n",
    "    erro7 = df[i].loc[7][0] # periodo ra tg palavra cpf\n",
    "    erro7 = [erro7.split()]\n",
    "    expedicao = df[i].loc[9][0]\n",
    "    expedicao = [expedicao.split()]\n",
    "    curso = curso = df[i].loc[5][0] +  df[i].loc[6][0]\n",
    "    faculdade = nome_faculdade = df[i].loc[0][0] + df[i].loc[2][0]\n",
    "\n",
    "    ############## construção Banco #############\n",
    "    #Dados Aluno\n",
    "    ra = ra # ra do aluno nome data nascimento\n",
    "    nome_aluno = df[i].loc[4][0] # Nome do Aluno\n",
    "    data_nascimento = df[i].loc[8][1] # data de nascimento real\n",
    "    rg_aluno = erro7[0][3] #RG Real\n",
    "    cpf_aluno= df[i].loc[7][1] # cpf completo\n",
    "    #Dados Curso\n",
    "    curso = df[i].loc[5][0] # Curso completo\n",
    "    periodo= erro7[0][2] # Periodo real\n",
    "    #Dados Carteirinha\n",
    "    expCarteirinha = expedicao[0][1] # expedição carteirinha\n",
    "    valCarteirinha = df[i].loc[9][1] # validade da carteirinha\n",
    "    #Dados Fatec\n",
    "    faculdade # Nome da faculdade \n",
    "    rua = \"RUA ARIOVALDO SILVEIRA FRANCO, 567 - JD 31 DE MARÇO\" # rua da faculdade\n",
    "    cep = \"CEP: 13801-005 - Mogi Mirim/SP\" # cep e cidade faculdade\n",
    "    telefone = \"Tel: 19 3806-3139\" # telefone faculdade\n",
    "    foto = None\n",
    "    qrcode = None\n",
    "    listaAluno = [(ra, nome_aluno,data_nascimento,rg_aluno,cpf_aluno,curso,periodo,expCarteirinha,valCarteirinha,faculdade,rua,telefone,foto,qrcode)]\n",
    "    dfNovoAluno = pd.DataFrame(listaAluno, columns=['ra', 'nome_aluno','data_nascimento','rg_aluno','cpf_aluno','curso','periodo','expCarteirinha','valCarteirinha','faculdade','rua','telefone','foto','qrcode'])\n",
    "    dfFinal = pd.concat([dfFinal,dfNovoAluno],ignore_index=True)\n",
    "    "
   ]
  },
  {
   "cell_type": "code",
   "execution_count": 12,
   "metadata": {},
   "outputs": [
    {
     "data": {
      "text/html": [
       "<div>\n",
       "<style scoped>\n",
       "    .dataframe tbody tr th:only-of-type {\n",
       "        vertical-align: middle;\n",
       "    }\n",
       "\n",
       "    .dataframe tbody tr th {\n",
       "        vertical-align: top;\n",
       "    }\n",
       "\n",
       "    .dataframe thead th {\n",
       "        text-align: right;\n",
       "    }\n",
       "</style>\n",
       "<table border=\"1\" class=\"dataframe\">\n",
       "  <thead>\n",
       "    <tr style=\"text-align: right;\">\n",
       "      <th></th>\n",
       "      <th>ra</th>\n",
       "      <th>nome_aluno</th>\n",
       "      <th>data_nascimento</th>\n",
       "      <th>rg_aluno</th>\n",
       "      <th>cpf_aluno</th>\n",
       "      <th>curso</th>\n",
       "      <th>periodo</th>\n",
       "      <th>expCarteirinha</th>\n",
       "      <th>valCarteirinha</th>\n",
       "      <th>faculdade</th>\n",
       "      <th>rua</th>\n",
       "      <th>telefone</th>\n",
       "      <th>foto</th>\n",
       "      <th>qrcode</th>\n",
       "    </tr>\n",
       "  </thead>\n",
       "  <tbody>\n",
       "    <tr>\n",
       "      <th>0</th>\n",
       "      <td>1630481813004</td>\n",
       "      <td>CAUÊ NASCIMENTO GUEDES</td>\n",
       "      <td>23/02/2000</td>\n",
       "      <td>58455848X</td>\n",
       "      <td>47773567875</td>\n",
       "      <td>Curso Superior de Tecnologia em Análise e Dese...</td>\n",
       "      <td>Noite</td>\n",
       "      <td>22/03/22</td>\n",
       "      <td>21/03/25</td>\n",
       "      <td>Faculdade de Tecnologia de Mogi Mirim \"Arthur ...</td>\n",
       "      <td>RUA ARIOVALDO SILVEIRA FRANCO, 567 - JD 31 DE ...</td>\n",
       "      <td>Tel: 19 3806-3139</td>\n",
       "      <td>b'iVBORw0KGgoAAAANSUhEUgAAAHgAAAB4CAIAAAC2BqGF...</td>\n",
       "      <td>None</td>\n",
       "    </tr>\n",
       "    <tr>\n",
       "      <th>1</th>\n",
       "      <td>1630481813020</td>\n",
       "      <td>LEONARDO VINÍCIUS DA SILVA</td>\n",
       "      <td>08/09/1998</td>\n",
       "      <td>549672916</td>\n",
       "      <td>45079019875</td>\n",
       "      <td>Curso Superior de Tecnologia em Análise e Dese...</td>\n",
       "      <td>Noite</td>\n",
       "      <td>22/03/22</td>\n",
       "      <td>21/03/25</td>\n",
       "      <td>Faculdade de Tecnologia de Mogi Mirim \"Arthur ...</td>\n",
       "      <td>RUA ARIOVALDO SILVEIRA FRANCO, 567 - JD 31 DE ...</td>\n",
       "      <td>Tel: 19 3806-3139</td>\n",
       "      <td>b'iVBORw0KGgoAAAANSUhEUgAAAHgAAAB4CAIAAAC2BqGF...</td>\n",
       "      <td>None</td>\n",
       "    </tr>\n",
       "    <tr>\n",
       "      <th>2</th>\n",
       "      <td>1630481813041</td>\n",
       "      <td>LUCAS RAFAEL PAULINO</td>\n",
       "      <td>19/05/2000</td>\n",
       "      <td>587900295</td>\n",
       "      <td>48544706827</td>\n",
       "      <td>Curso Superior de Tecnologia em Análise e Dese...</td>\n",
       "      <td>Noite</td>\n",
       "      <td>22/03/22</td>\n",
       "      <td>21/03/25</td>\n",
       "      <td>Faculdade de Tecnologia de Mogi Mirim \"Arthur ...</td>\n",
       "      <td>RUA ARIOVALDO SILVEIRA FRANCO, 567 - JD 31 DE ...</td>\n",
       "      <td>Tel: 19 3806-3139</td>\n",
       "      <td>b'iVBORw0KGgoAAAANSUhEUgAAAHgAAAB4CAIAAAC2BqGF...</td>\n",
       "      <td>None</td>\n",
       "    </tr>\n",
       "  </tbody>\n",
       "</table>\n",
       "</div>"
      ],
      "text/plain": [
       "              ra                  nome_aluno data_nascimento   rg_aluno  \\\n",
       "0  1630481813004      CAUÊ NASCIMENTO GUEDES      23/02/2000  58455848X   \n",
       "1  1630481813020  LEONARDO VINÍCIUS DA SILVA      08/09/1998  549672916   \n",
       "2  1630481813041        LUCAS RAFAEL PAULINO      19/05/2000  587900295   \n",
       "\n",
       "     cpf_aluno                                              curso periodo  \\\n",
       "0  47773567875  Curso Superior de Tecnologia em Análise e Dese...   Noite   \n",
       "1  45079019875  Curso Superior de Tecnologia em Análise e Dese...   Noite   \n",
       "2  48544706827  Curso Superior de Tecnologia em Análise e Dese...   Noite   \n",
       "\n",
       "  expCarteirinha valCarteirinha  \\\n",
       "0       22/03/22       21/03/25   \n",
       "1       22/03/22       21/03/25   \n",
       "2       22/03/22       21/03/25   \n",
       "\n",
       "                                           faculdade  \\\n",
       "0  Faculdade de Tecnologia de Mogi Mirim \"Arthur ...   \n",
       "1  Faculdade de Tecnologia de Mogi Mirim \"Arthur ...   \n",
       "2  Faculdade de Tecnologia de Mogi Mirim \"Arthur ...   \n",
       "\n",
       "                                                 rua           telefone  \\\n",
       "0  RUA ARIOVALDO SILVEIRA FRANCO, 567 - JD 31 DE ...  Tel: 19 3806-3139   \n",
       "1  RUA ARIOVALDO SILVEIRA FRANCO, 567 - JD 31 DE ...  Tel: 19 3806-3139   \n",
       "2  RUA ARIOVALDO SILVEIRA FRANCO, 567 - JD 31 DE ...  Tel: 19 3806-3139   \n",
       "\n",
       "                                                foto qrcode  \n",
       "0  b'iVBORw0KGgoAAAANSUhEUgAAAHgAAAB4CAIAAAC2BqGF...   None  \n",
       "1  b'iVBORw0KGgoAAAANSUhEUgAAAHgAAAB4CAIAAAC2BqGF...   None  \n",
       "2  b'iVBORw0KGgoAAAANSUhEUgAAAHgAAAB4CAIAAAC2BqGF...   None  "
      ]
     },
     "execution_count": 12,
     "metadata": {},
     "output_type": "execute_result"
    }
   ],
   "source": [
    "dfFinal"
   ]
  },
  {
   "cell_type": "code",
   "execution_count": 6,
   "metadata": {},
   "outputs": [],
   "source": [
    "def ImageDirFoto():\n",
    "        import os\n",
    "        cwd = os.getcwd() + \"\\\\foto\"\n",
    "        paths = []\n",
    "        for root, dirs, files in os.walk(cwd):\n",
    "            for file in files:\n",
    "                if file.endswith(\".png\"):\n",
    "                    paths.append(os.path.join(root, file))\n",
    "        paths = natsorted(paths)\n",
    "        return paths"
   ]
  },
  {
   "cell_type": "code",
   "execution_count": 7,
   "metadata": {},
   "outputs": [],
   "source": [
    "def ImageDirQrcode():\n",
    "        import os\n",
    "        cwd = os.getcwd() + \"\\\\qrcode\"\n",
    "        paths = []\n",
    "        for root, dirs, files in os.walk(cwd):\n",
    "            for file in files:\n",
    "                if file.endswith(\".png\"):\n",
    "                    paths.append(os.path.join(root, file))\n",
    "        paths = natsorted(paths)\n",
    "        return paths"
   ]
  },
  {
   "cell_type": "code",
   "execution_count": 8,
   "metadata": {},
   "outputs": [
    {
     "data": {
      "text/plain": [
       "['c:\\\\Users\\\\Leo\\\\Documents\\\\code\\\\parsiingpdftomysql\\\\foto\\\\6.png',\n",
       " 'c:\\\\Users\\\\Leo\\\\Documents\\\\code\\\\parsiingpdftomysql\\\\foto\\\\10.png',\n",
       " 'c:\\\\Users\\\\Leo\\\\Documents\\\\code\\\\parsiingpdftomysql\\\\foto\\\\14.png']"
      ]
     },
     "execution_count": 8,
     "metadata": {},
     "output_type": "execute_result"
    }
   ],
   "source": [
    "imagens = ImageDirFoto()\n",
    "imagens"
   ]
  },
  {
   "cell_type": "code",
   "execution_count": 9,
   "metadata": {},
   "outputs": [],
   "source": [
    "def convertendoImagemBase64(dir):\n",
    "    data = []\n",
    "    for i in range(len(dir)):\n",
    "        with open(dir[i] , \"rb\") as image_file:\n",
    "            data.append(base64.b64encode(image_file.read()))\n",
    "\n",
    "    return data"
   ]
  },
  {
   "cell_type": "code",
   "execution_count": 10,
   "metadata": {},
   "outputs": [],
   "source": [
    "def adicionandoImagemBase64aoDF(data):\n",
    "    for i in range(len(data)):\n",
    "        dfFinal.iloc[i, 12] = data[i]"
   ]
  },
  {
   "cell_type": "code",
   "execution_count": 11,
   "metadata": {},
   "outputs": [],
   "source": [
    "res = convertendoImagemBase64(imagens)\n",
    "adicionandoImagemBase64aoDF(res)"
   ]
  },
  {
   "cell_type": "code",
   "execution_count": null,
   "metadata": {},
   "outputs": [],
   "source": [
    "res = convertendoImagemBase64(imagens)\n",
    "adicionandoImagemBase64aoDF(res)"
   ]
  },
  {
   "cell_type": "code",
   "execution_count": 15,
   "metadata": {},
   "outputs": [
    {
     "data": {
      "image/png": "[encoded data removed]",
      "text/plain": [
       "<PIL.PngImagePlugin.PngImageFile image mode=RGB size=120x120>"
      ]
     },
     "metadata": {},
     "output_type": "display_data"
    }
   ],
   "source": [
    "im = Image.open(BytesIO(base64.b64decode(dfFinal.iloc[2,12])))\n",
    "display(im)"
   ]
  }
 ],
 "metadata": {
  "interpreter": {
   "hash": "ed71a0ddcdf6c8590a5c2c8e5440f88e4d795b7a978960cf40292af574f5a1db"
  },
  "kernelspec": {
   "display_name": "Python 3.10.2 64-bit (windows store)",
   "language": "python",
   "name": "python3"
  },
  "language_info": {
   "codemirror_mode": {
    "name": "ipython",
    "version": 3
   },
   "file_extension": ".py",
   "mimetype": "text/x-python",
   "name": "python",
   "nbconvert_exporter": "python",
   "pygments_lexer": "ipython3",
   "version": "3.9.10"
  },
  "orig_nbformat": 4
 },
 "nbformat": 4,
 "nbformat_minor": 2
}
