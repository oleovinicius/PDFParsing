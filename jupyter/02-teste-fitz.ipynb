{
 "cells": [
  {
   "cell_type": "code",
   "execution_count": 1,
   "metadata": {},
   "outputs": [],
   "source": [
    "file_path = r\"C:\\Users\\Leo\\Documents\\code\\parsiingpdftomysql\\pdftoparsing.pdf\""
   ]
  },
  {
   "cell_type": "code",
   "execution_count": 3,
   "metadata": {},
   "outputs": [],
   "source": [
    "#IMPORTS\n",
    "import fitz\n",
    "import os\n",
    "from PIL import Image\n",
    "import glob\n",
    "import shutil\n",
    "from pathlib import Path\n",
    "import cv2\n",
    "\n"
   ]
  },
  {
   "cell_type": "markdown",
   "metadata": {},
   "source": [
    "# Gerar as imagens com o fitz"
   ]
  },
  {
   "cell_type": "code",
   "execution_count": 4,
   "metadata": {},
   "outputs": [
    {
     "name": "stderr",
     "output_type": "stream",
     "text": [
      "Deprecation: 'getPageImageList' removed from class 'Document' after v1.19 - use 'get_page_images'.\n",
      "Deprecation: 'writePNG' removed from class 'Pixmap' after v1.19 - use 'save'.\n"
     ]
    }
   ],
   "source": [
    "doc = fitz.open(file_path)\n",
    "for i in range(len(doc)):\n",
    "    for img in doc.getPageImageList(i):\n",
    "        xref = img[0]\n",
    "        pix = fitz.Pixmap(doc, xref)\n",
    "        if pix.n < 5:       # this is GRAY or RGB\n",
    "            pix.writePNG(\"%s.png\" % (xref))\n",
    "        else:               # CMYK: convert to RGB first\n",
    "            pix1 = fitz.Pixmap(fitz.csRGB, pix)\n",
    "            pix1.writePNG(\"%s.png\" % (xref))\n",
    "            pix1 = None\n",
    "        pix = None"
   ]
  },
  {
   "cell_type": "markdown",
   "metadata": {},
   "source": [
    "# Pegar todos os paths em uma lista"
   ]
  },
  {
   "cell_type": "code",
   "execution_count": 117,
   "metadata": {},
   "outputs": [],
   "source": [
    "filesToExpurgue = (glob.glob(r\"*.png\")) "
   ]
  },
  {
   "cell_type": "markdown",
   "metadata": {},
   "source": [
    "# Deletar os que não tenhão resolução do RA ou da Foto"
   ]
  },
  {
   "cell_type": "code",
   "execution_count": 118,
   "metadata": {},
   "outputs": [],
   "source": [
    "import cv2\n",
    "\n",
    "path_dimension_height = []\n",
    "path_dimension_width = []\n",
    "test = []\n",
    "\n",
    "for i in range(len(filesToExpurgue)):\n",
    "    # read image\n",
    "    img = cv2.imread(filesToExpurgue[i])\n",
    "    test.append(filesToExpurgue[i])\n",
    "\n",
    "    # get dimensions of image\n",
    "    dimensions = img.shape\n",
    "\n",
    "    # height, width, number of channels in image\n",
    "    height = img.shape[0]\n",
    "    width = img.shape[1]\n",
    "    channels = img.shape[2]\n",
    "\n",
    "    if height > 226 or width >226:\n",
    "        os.remove(filesToExpurgue[i]) \n"
   ]
  },
  {
   "cell_type": "markdown",
   "metadata": {},
   "source": [
    "# Renomear para RA ou Foto"
   ]
  },
  {
   "cell_type": "markdown",
   "metadata": {},
   "source": [
    "### Primeiro vamos definir a função que vai pegar os tamanhos"
   ]
  },
  {
   "cell_type": "code",
   "execution_count": 119,
   "metadata": {},
   "outputs": [],
   "source": [
    "def getImageSize(image):\n",
    "    im = Image.open(image)\n",
    "    h, w = im.height, im.width\n",
    "    im.close()\n",
    "    result = h * w\n",
    "    return result\n"
   ]
  },
  {
   "cell_type": "markdown",
   "metadata": {},
   "source": [
    "### Depois vamos definir pegar uma lista das imagens usando o Glob"
   ]
  },
  {
   "cell_type": "code",
   "execution_count": 120,
   "metadata": {},
   "outputs": [],
   "source": [
    "files = (glob.glob(r\"*.png\")) "
   ]
  },
  {
   "cell_type": "markdown",
   "metadata": {},
   "source": [
    "##### Separando as fotos dos QR Code"
   ]
  },
  {
   "cell_type": "code",
   "execution_count": 121,
   "metadata": {},
   "outputs": [
    {
     "data": {
      "text/plain": [
       "[14400, 51076, 14400, 51076, 14400, 51076]"
      ]
     },
     "execution_count": 121,
     "metadata": {},
     "output_type": "execute_result"
    }
   ],
   "source": [
    "tipos = []\n",
    "for i in range(len(files)):\n",
    "    tipos.append(getImageSize(files[i]))\n",
    "tipos"
   ]
  },
  {
   "cell_type": "markdown",
   "metadata": {},
   "source": [
    "#### colocando cada um na sua paginpasta"
   ]
  },
  {
   "cell_type": "code",
   "execution_count": 122,
   "metadata": {},
   "outputs": [],
   "source": [
    "cwd = os.getcwd()\n",
    "for i in range(len(tipos)):\n",
    "    if tipos[i] == 14400:\n",
    "        destination = cwd + \"\\\\foto\"\n",
    "        shutil.move(files[i], destination)\n",
    "    else:\n",
    "        destination = cwd + \"\\\\qrcode\"\n",
    "        shutil.move(files[i], destination)"
   ]
  },
  {
   "cell_type": "markdown",
   "metadata": {},
   "source": [
    "#### convertendo para base 64"
   ]
  },
  {
   "cell_type": "code",
   "execution_count": 4,
   "metadata": {},
   "outputs": [
    {
     "name": "stdout",
     "output_type": "stream",
     "text": [
      "b'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'\n"
     ]
    }
   ],
   "source": [
    "import base64\n",
    "from PIL import Image\n",
    "from io import BytesIO\n",
    "\n",
    "with open(r\"C:\\Users\\Leo\\Documents\\code\\parsiingpdftomysql\\foto\\6.png\", \"rb\") as image_file:\n",
    "    data = base64.b64encode(image_file.read())\n",
    "\n",
    "print (data)\n"
   ]
  },
  {
   "cell_type": "code",
   "execution_count": null,
   "metadata": {},
   "outputs": [],
   "source": [
    "def recuperandoImagemBase64(data):\n",
    "    im = Image.open(BytesIO(base64.b64decode(data)))\n",
    "    im.save('image1.png', 'PNG')"
   ]
  }
 ],
 "metadata": {
  "interpreter": {
   "hash": "bc067272fb9bde0ae297d24067dde9ef56c799ecc91635188f82355b304247ee"
  },
  "kernelspec": {
   "display_name": "Python 3.9.10 ('pdfparsingenv')",
   "language": "python",
   "name": "python3"
  },
  "language_info": {
   "codemirror_mode": {
    "name": "ipython",
    "version": 3
   },
   "file_extension": ".py",
   "mimetype": "text/x-python",
   "name": "python",
   "nbconvert_exporter": "python",
   "pygments_lexer": "ipython3",
   "version": "3.9.10"
  },
  "orig_nbformat": 4
 },
 "nbformat": 4,
 "nbformat_minor": 2
}
