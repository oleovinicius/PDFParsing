{
 "cells": [
  {
   "cell_type": "code",
   "execution_count": 1,
   "metadata": {},
   "outputs": [],
   "source": [
    "import mysql.connector\n",
    "import Utils.imageExtractor as imageExtractor\n",
    "import Utils.constructor as constructor"
   ]
  },
  {
   "cell_type": "code",
   "execution_count": 2,
   "metadata": {},
   "outputs": [],
   "source": [
    "class conexaoBancodeDados:\n",
    "    def __init__(self,server,username,passwod,df):\n",
    "        self.server = server\n",
    "        self.username = username\n",
    "        self.password = passwod\n",
    "        self.conexao = None\n",
    "        self.cursor = None\n",
    "        self.dataframe = df\n",
    "\n",
    "    def conectandoaoBD(self):\n",
    "        self.conexao= mysql.connector.connect(\n",
    "            host=self.server,\n",
    "            user=self.username,\n",
    "            password=self.password)\n",
    "        self.cursor = self.conexao.cursor()\n",
    "        \n",
    "    def createDb(self):\n",
    "        var = \"\"\"CREATE DATABASE FatecMM2020\"\"\"\n",
    "        self.cursor.execute(var)\n",
    "\n",
    "    def useDB(self):\n",
    "        var = \"\"\"USE FatecMM2020\"\"\"\n",
    "        self.cursor.execute(var)\n",
    "\n",
    "    def criandoTabelaAlunos(self):\n",
    "        self.cursor.execute(\"\"\"\n",
    "        CREATE TABLE Alunos (\n",
    "        ra varchar(255) PRIMARY KEY,\n",
    "\tsenha varchar(255), \n",
    "        nome_aluno varchar(255),\n",
    "        data_nascimento varchar(255),\n",
    "        rg_aluno varchar(255),\n",
    "        cpf_aluno varchar(255),\n",
    "        curso varchar(255),\n",
    "        periodo varchar(255),\n",
    "        expCarteirinha varchar(255),\n",
    "        valCarteirinha varchar(255),\n",
    "        faculdade varchar(255),\n",
    "        rua varchar(255),\n",
    "        telefone varchar(255),\n",
    "        foto varbinary(20000),\n",
    "        qrcode varbinary(20000));\n",
    "        \"\"\")\n",
    "        self.conexao.commit()\n",
    "\n",
    "    def inserindoDF(self):\n",
    "        for i in range(len(self.dataframe)):\n",
    "            sql = \"INSERT INTO Alunos (ra, nome_aluno, data_nascimento, rg_aluno, cpf_aluno, curso, periodo, expCarteirinha, valCarteirinha, faculdade, rua, telefone, foto, qrcode) values(%s,%s,%s,%s,%s,%s,%s,%s,%s,%s,%s,%s,%s,%s)\"\n",
    "            val = (self.dataframe.iloc[i,0],self.dataframe.iloc[i,1],self.dataframe.iloc[i,2],self.dataframe.iloc[i,3],self.dataframe.iloc[i,4],self.dataframe.iloc[i,5],self.dataframe.iloc[i,6],self.dataframe.iloc[i,7],self.dataframe.iloc[i,8],self.dataframe.iloc[i,9],self.dataframe.iloc[i,10],self.dataframe.iloc[i,11],self.dataframe.iloc[i,12],self.dataframe.iloc[i,13])\n",
    "            self.cursor.execute(sql,val)\n",
    "        self.conexao.commit()"
   ]
  },
  {
   "cell_type": "code",
   "execution_count": 3,
   "metadata": {},
   "outputs": [],
   "source": [
    "class teste:\n",
    "    def __init__(self):\n",
    "        self.window = None\n",
    "        self.pathPdf = r\"C:\\Users\\Leo\\Documents\\code\\parsiingpdftomysql\\pdftoparsing.pdf\"\n",
    "        self.server = None\n",
    "        self.database = None\n",
    "        self.username = None\n",
    "        self.password = None\n",
    "        self.dataframe = None\n",
    "        self.bdinstance = None\n",
    "\n",
    "    def rodandoprograma(self):\n",
    "         # Passo 1: Extração das imagens do pdf\n",
    "        print(\"Iniciando a extração de imagens\")\n",
    "        execution = imageExtractor.extratorImagens(self.pathPdf)\n",
    "        print(\"Gerando as Imagens\")\n",
    "        execution.imageGenerator()\n",
    "        print(\"Pegando os caminhos\")\n",
    "        execution.ImageDir()\n",
    "        print(\"Limpando o lixo\")\n",
    "        execution.unusableImgClean()\n",
    "        print(\"Pegando o caminho de novo para separar as imagens\")\n",
    "        execution.ImageDir()\n",
    "        print(\"separando as imagens\")\n",
    "        execution.photosandqr()\n",
    "        print(\"Finalizando o extrator de imagens\")\n",
    "        # Passo 2: Extração das informações do pdf para um Pandas DataFrame\n",
    "        executor = constructor.constructorTables(self.pathPdf)\n",
    "        print('Extrair Dados do PDF')\n",
    "        executor.file_extract()\n",
    "        print('Montando o DataFrame')\n",
    "        executor.df_construct()\n",
    "        print('Pegando as fotos')\n",
    "        executor.ImageDirFoto()\n",
    "        print('Convertendo as fotos para base64')\n",
    "        executor.convertendoImagemBase64() \n",
    "        print('Adicionando as fotos base64 ao DF')\n",
    "        executor.adicionandoImagemBase64aoDFFoto()\n",
    "        print('Pegando o caminho dos QRcode')\n",
    "        executor.ImageDirQrcode()\n",
    "        print('Convertendo os QRcode para base64')\n",
    "        executor.convertendoImagemBase64()\n",
    "        print('Adicionando QR code de base64 ao DF')\n",
    "        executor.adicionandoImagemBase64aoDFQrcode()\n",
    "        self.dataframe = executor.dataframe"
   ]
  },
  {
   "cell_type": "code",
   "execution_count": 4,
   "metadata": {},
   "outputs": [
    {
     "name": "stdout",
     "output_type": "stream",
     "text": [
      "Iniciando a extração de imagens\n",
      "C:\\Users\\Leo\\Documents\\code\\parsiingpdftomysql\\pdftoparsing.pdf\n",
      "Gerando as Imagens\n",
      "Pegando os caminhos\n",
      "c:\\Users\\Leo\\Documents\\code\\parsiingpdftomysql\n",
      "caminho: c:\\Users\\Leo\\Documents\\code\\parsiingpdftomysql\\1.png\n",
      "caminho: c:\\Users\\Leo\\Documents\\code\\parsiingpdftomysql\\10.png\n",
      "caminho: c:\\Users\\Leo\\Documents\\code\\parsiingpdftomysql\\11.png\n",
      "caminho: c:\\Users\\Leo\\Documents\\code\\parsiingpdftomysql\\12.png\n",
      "caminho: c:\\Users\\Leo\\Documents\\code\\parsiingpdftomysql\\13.png\n",
      "caminho: c:\\Users\\Leo\\Documents\\code\\parsiingpdftomysql\\14.png\n",
      "caminho: c:\\Users\\Leo\\Documents\\code\\parsiingpdftomysql\\15.png\n",
      "caminho: c:\\Users\\Leo\\Documents\\code\\parsiingpdftomysql\\2.png\n",
      "caminho: c:\\Users\\Leo\\Documents\\code\\parsiingpdftomysql\\6.png\n",
      "caminho: c:\\Users\\Leo\\Documents\\code\\parsiingpdftomysql\\7.png\n",
      "caminho: c:\\Users\\Leo\\Documents\\code\\parsiingpdftomysql\\8.png\n",
      "caminho: c:\\Users\\Leo\\Documents\\code\\parsiingpdftomysql\\9.png\n",
      "caminho: c:\\Users\\Leo\\Documents\\code\\parsiingpdftomysql\\projeto\\Lib\\site-packages\\ipykernel\\resources\\logo-32x32.png\n",
      "caminho: c:\\Users\\Leo\\Documents\\code\\parsiingpdftomysql\\projeto\\Lib\\site-packages\\ipykernel\\resources\\logo-64x64.png\n",
      "caminho: c:\\Users\\Leo\\Documents\\code\\parsiingpdftomysql\\projeto\\Lib\\site-packages\\IPython\\core\\tests\\2x2.png\n"
     ]
    },
    {
     "name": "stderr",
     "output_type": "stream",
     "text": [
      "Deprecation: 'getPageImageList' removed from class 'Document' after v1.19 - use 'get_page_images'.\n",
      "Deprecation: 'writePNG' removed from class 'Pixmap' after v1.19 - use 'save'.\n"
     ]
    },
    {
     "name": "stdout",
     "output_type": "stream",
     "text": [
      "caminho: c:\\Users\\Leo\\Documents\\code\\parsiingpdftomysql\\projeto\\share\\jupyter\\kernels\\python3\\logo-32x32.png\n",
      "caminho: c:\\Users\\Leo\\Documents\\code\\parsiingpdftomysql\\projeto\\share\\jupyter\\kernels\\python3\\logo-64x64.png\n",
      "Limpando o lixo\n",
      "Pegando o caminho de novo para separar as imagens\n",
      "c:\\Users\\Leo\\Documents\\code\\parsiingpdftomysql\n",
      "caminho: c:\\Users\\Leo\\Documents\\code\\parsiingpdftomysql\\10.png\n",
      "caminho: c:\\Users\\Leo\\Documents\\code\\parsiingpdftomysql\\11.png\n",
      "caminho: c:\\Users\\Leo\\Documents\\code\\parsiingpdftomysql\\14.png\n",
      "caminho: c:\\Users\\Leo\\Documents\\code\\parsiingpdftomysql\\15.png\n",
      "caminho: c:\\Users\\Leo\\Documents\\code\\parsiingpdftomysql\\6.png\n",
      "caminho: c:\\Users\\Leo\\Documents\\code\\parsiingpdftomysql\\7.png\n",
      "caminho: c:\\Users\\Leo\\Documents\\code\\parsiingpdftomysql\\projeto\\Lib\\site-packages\\ipykernel\\resources\\logo-32x32.png\n",
      "caminho: c:\\Users\\Leo\\Documents\\code\\parsiingpdftomysql\\projeto\\Lib\\site-packages\\ipykernel\\resources\\logo-64x64.png\n",
      "caminho: c:\\Users\\Leo\\Documents\\code\\parsiingpdftomysql\\projeto\\Lib\\site-packages\\IPython\\core\\tests\\2x2.png\n",
      "caminho: c:\\Users\\Leo\\Documents\\code\\parsiingpdftomysql\\projeto\\share\\jupyter\\kernels\\python3\\logo-32x32.png\n",
      "caminho: c:\\Users\\Leo\\Documents\\code\\parsiingpdftomysql\\projeto\\share\\jupyter\\kernels\\python3\\logo-64x64.png\n",
      "separando as imagens\n",
      "Diretorio foto não existe ainda\n",
      "Diretorio qrcode não existe ainda\n",
      "Finalizando o extrator de imagens\n",
      "Extrair Dados do PDF\n",
      "Montando o DataFrame\n",
      "Pegando as fotos\n",
      "Convertendo as fotos para base64\n",
      "Adicionando as fotos base64 ao DF\n",
      "Pegando o caminho dos QRcode\n",
      "Convertendo os QRcode para base64\n",
      "Adicionando QR code de base64 ao DF\n"
     ]
    }
   ],
   "source": [
    "execucao = teste()\n",
    "execucao.rodandoprograma()\n",
    "banco = conexaoBancodeDados(\"levinsi-database.cwguw5pbmv92.us-east-1.rds.amazonaws.com\",\"root\",\"a]yh3x-;KdQ_TBUC8l]eAh,XSy)>S\",execucao.dataframe)\n",
    "banco.conectandoaoBD()"
   ]
  },
  {
   "cell_type": "code",
   "execution_count": 6,
   "metadata": {},
   "outputs": [],
   "source": [
    "banco.useDB()\n",
    "banco.inserindoDF()"
   ]
  }
 ],
 "metadata": {
  "interpreter": {
   "hash": "bc067272fb9bde0ae297d24067dde9ef56c799ecc91635188f82355b304247ee"
  },
  "kernelspec": {
   "display_name": "Python 3.9.10 ('pdfparsingenv')",
   "language": "python",
   "name": "python3"
  },
  "language_info": {
   "codemirror_mode": {
    "name": "ipython",
    "version": 3
   },
   "file_extension": ".py",
   "mimetype": "text/x-python",
   "name": "python",
   "nbconvert_exporter": "python",
   "pygments_lexer": "ipython3",
   "version": "3.9.10"
  },
  "orig_nbformat": 4
 },
 "nbformat": 4,
 "nbformat_minor": 2
}
