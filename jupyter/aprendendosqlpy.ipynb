{
 "cells": [
  {
   "cell_type": "markdown",
   "metadata": {},
   "source": [
    "pip install mysql-connector-python\n",
    "pip install pandas"
   ]
  },
  {
   "cell_type": "markdown",
   "metadata": {},
   "source": [
    "TUTORIAL RETIRADO DE: https://www.freecodecamp.org/portuguese/news/como-criar-e-manipular-bancos-de-dados-sql-com-python/"
   ]
  },
  {
   "cell_type": "code",
   "execution_count": 10,
   "metadata": {},
   "outputs": [],
   "source": [
    "import mysql.connector\n",
    "from mysql.connector import Error\n",
    "import pandas as pd"
   ]
  },
  {
   "cell_type": "markdown",
   "metadata": {},
   "source": [
    "# Conectando ao MySQL Server"
   ]
  },
  {
   "cell_type": "code",
   "execution_count": 14,
   "metadata": {},
   "outputs": [],
   "source": [
    "def create_server_connection(host_name, user_name, user_password):\n",
    "    connection = None\n",
    "    try:\n",
    "        connection = mysql.connector.connect(\n",
    "            host=host_name,\n",
    "            user=user_name, \n",
    "            passwd=user_password\n",
    "        )\n",
    "        print(\"MySQL Database connection successful\")\n",
    "    except Error as err:\n",
    "        print(f\"Error: '{err}'\")\n",
    "\n",
    "    return connection"
   ]
  },
  {
   "cell_type": "code",
   "execution_count": 15,
   "metadata": {},
   "outputs": [
    {
     "name": "stdout",
     "output_type": "stream",
     "text": [
      "MySQL Database connection successful\n"
     ]
    }
   ],
   "source": [
    "pw = 'jude'\n",
    "connection = create_server_connection(\"localhost\", \"root\", pw)\n"
   ]
  },
  {
   "cell_type": "markdown",
   "metadata": {},
   "source": []
  },
  {
   "cell_type": "markdown",
   "metadata": {},
   "source": [
    "## Criando novo banco de dados"
   ]
  },
  {
   "cell_type": "code",
   "execution_count": 16,
   "metadata": {},
   "outputs": [],
   "source": [
    "def create_database(connection, query):\n",
    "    cursor = connection.cursor()\n",
    "    try:\n",
    "        cursor.execute(\"Select database()\")\n",
    "        cursor.execute(query)\n",
    "        print(\"Database created successfully\")\n",
    "    except Error as err:\n",
    "        print(f\"Error: '{err}'\")"
   ]
  },
  {
   "cell_type": "code",
   "execution_count": 17,
   "metadata": {},
   "outputs": [
    {
     "name": "stdout",
     "output_type": "stream",
     "text": [
      "Error: 'Unread result found'\n"
     ]
    }
   ],
   "source": [
    "create_database_query = \"CREATE DATABASE school\"\n",
    "create_database(connection, create_database_query)"
   ]
  },
  {
   "cell_type": "code",
   "execution_count": 22,
   "metadata": {},
   "outputs": [],
   "source": [
    "def create_db_connection(host_name, user_name, user_password, db_name):\n",
    "    connection = None\n",
    "    try:\n",
    "        connection = mysql.connector.connect(\n",
    "            host=host_name,\n",
    "            user=user_name,\n",
    "            passwd=user_password,\n",
    "            database=db_name\n",
    "        )\n",
    "        print(\"MySQL Database connection successful\")\n",
    "    except Error as err:\n",
    "        print(f\"Error: '{err}'\")\n",
    "\n",
    "    return connection"
   ]
  },
  {
   "cell_type": "code",
   "execution_count": 23,
   "metadata": {},
   "outputs": [],
   "source": [
    "def execute_query(connection, query):\n",
    "    cursor = connection.cursor()\n",
    "    try:\n",
    "        cursor.execute(query)\n",
    "        connection.commit()\n",
    "        print(\"Query successful\")\n",
    "    except Error as err:\n",
    "        print(f\"Error: '{err}'\")"
   ]
  },
  {
   "cell_type": "code",
   "execution_count": null,
   "metadata": {},
   "outputs": [],
   "source": [
    "\n",
    "# import the mysql client for python\n",
    "\n",
    "import pymysql\n",
    "\n",
    " \n",
    "\n",
    "# Create a connection object\n",
    "\n",
    "dbIP            = \"127.0.0.1\"  # IP address of the MySQL database server\n",
    "\n",
    "dbUserName            = \"root\"       # User name of the database server\n",
    "\n",
    "dbUserPassword        = \"\"           # Password for the database user\n",
    "\n",
    " \n",
    "\n",
    "databaseForDeletion         = \"D1\"          # Name of the database that is to be deleted\n",
    "\n",
    "charSet                     = \"utf8mb4\"     # Character set\n",
    "\n",
    "cusrorType                  = pymysql.cursors.DictCursor\n",
    "\n",
    " \n",
    "\n",
    "connection   = pymysql.connect(host=dbIP, user=dbUserName, password=dbUserPassword,\n",
    "\n",
    "                               charset=charSet,cursorclass=cusrorType)\n",
    "\n",
    " \n",
    "\n",
    "try:\n",
    "\n",
    "    # Create a cursor object\n",
    "\n",
    "    dbCursor        = connection.cursor()                                    \n",
    "\n",
    " \n",
    "\n",
    "    # SQL Statement to delete a database\n",
    "\n",
    "    sql = \"DROP DATABASE \"+databaseForDeletion  \n",
    "\n",
    " \n",
    "\n",
    "    # Execute the create database SQL statment through the cursor instance\n",
    "\n",
    "    dbCursor.execute(sql)\n",
    "\n",
    " \n",
    "\n",
    "    # SQL query string\n",
    "\n",
    "    sqlQuery            = \"SHOW DATABASES\"\n",
    "\n",
    " \n",
    "\n",
    "    # Execute the sqlQuery\n",
    "\n",
    "    dbCursor.execute(sqlQuery)\n",
    "\n",
    " \n",
    "\n",
    "    #Fetch all the rows\n",
    "\n",
    "    databaseCollection = dbCursor.fetchall()\n",
    "\n",
    " \n",
    "\n",
    "    for datatbase in databaseCollection:\n",
    "\n",
    "        print(datatbase)\n",
    "\n",
    " \n",
    "\n",
    "except Exception as e:\n",
    "\n",
    "    print(\"Exeception occured:{}\".format(e))\n",
    "\n",
    " \n",
    "\n",
    "finally:\n",
    "\n",
    "    connection.close()"
   ]
  },
  {
   "cell_type": "markdown",
   "metadata": {},
   "source": [
    "## Criando tabelas"
   ]
  },
  {
   "cell_type": "code",
   "execution_count": 28,
   "metadata": {},
   "outputs": [],
   "source": [
    "create_teacher_table = \"\"\"\n",
    "CREATE TABLE teacher (\n",
    "  teacher_id INT PRIMARY KEY,\n",
    "  first_name VARCHAR(40) NOT NULL,\n",
    "  last_name VARCHAR(40) NOT NULL,\n",
    "  language_1 VARCHAR(3) NOT NULL,\n",
    "  language_2 VARCHAR(3),\n",
    "  dob DATE,\n",
    "  tax_id INT UNIQUE,\n",
    "  phone_no VARCHAR(20)\n",
    "  );\n",
    " \"\"\"\n"
   ]
  },
  {
   "cell_type": "code",
   "execution_count": 30,
   "metadata": {},
   "outputs": [
    {
     "ename": "NameError",
     "evalue": "name 'school' is not defined",
     "output_type": "error",
     "traceback": [
      "\u001b[1;31m---------------------------------------------------------------------------\u001b[0m",
      "\u001b[1;31mNameError\u001b[0m                                 Traceback (most recent call last)",
      "\u001b[1;32mc:\\Users\\Leo\\Documents\\code\\parsiingpdftomysql\\mysqltest.ipynb Cell 14'\u001b[0m in \u001b[0;36m<cell line: 1>\u001b[1;34m()\u001b[0m\n\u001b[1;32m----> <a href='vscode-notebook-cell:/c%3A/Users/Leo/Documents/code/parsiingpdftomysql/mysqltest.ipynb#ch0000013?line=0'>1</a>\u001b[0m db\u001b[39m=\u001b[39mschool\n\u001b[0;32m      <a href='vscode-notebook-cell:/c%3A/Users/Leo/Documents/code/parsiingpdftomysql/mysqltest.ipynb#ch0000013?line=1'>2</a>\u001b[0m connection \u001b[39m=\u001b[39m create_db_connection(\u001b[39m\"\u001b[39m\u001b[39mlocalhost\u001b[39m\u001b[39m\"\u001b[39m, \u001b[39m\"\u001b[39m\u001b[39mroot\u001b[39m\u001b[39m\"\u001b[39m, pw, db) \u001b[39m# Connect to the Database\u001b[39;00m\n\u001b[0;32m      <a href='vscode-notebook-cell:/c%3A/Users/Leo/Documents/code/parsiingpdftomysql/mysqltest.ipynb#ch0000013?line=2'>3</a>\u001b[0m execute_query(connection, create_teacher_table)\n",
      "\u001b[1;31mNameError\u001b[0m: name 'school' is not defined"
     ]
    }
   ],
   "source": [
    "db=school\n",
    "connection = create_db_connection(\"localhost\", \"root\", pw, db) # Connect to the Database\n",
    "execute_query(connection, create_teacher_table) # Execute our defined query"
   ]
  },
  {
   "cell_type": "code",
   "execution_count": 31,
   "metadata": {},
   "outputs": [
    {
     "name": "stdout",
     "output_type": "stream",
     "text": [
      "Error: '1049 (42000): Unknown database 'database''\n"
     ]
    },
    {
     "ename": "AttributeError",
     "evalue": "'NoneType' object has no attribute 'cursor'",
     "output_type": "error",
     "traceback": [
      "\u001b[1;31m---------------------------------------------------------------------------\u001b[0m",
      "\u001b[1;31mAttributeError\u001b[0m                            Traceback (most recent call last)",
      "\u001b[1;32mc:\\Users\\Leo\\Documents\\code\\parsiingpdftomysql\\mysqltest.ipynb Cell 15'\u001b[0m in \u001b[0;36m<cell line: 36>\u001b[1;34m()\u001b[0m\n\u001b[0;32m     <a href='vscode-notebook-cell:/c%3A/Users/Leo/Documents/code/parsiingpdftomysql/mysqltest.ipynb#ch0000014?line=19'>20</a>\u001b[0m create_course_table \u001b[39m=\u001b[39m \u001b[39m\"\"\"\u001b[39m\n\u001b[0;32m     <a href='vscode-notebook-cell:/c%3A/Users/Leo/Documents/code/parsiingpdftomysql/mysqltest.ipynb#ch0000014?line=20'>21</a>\u001b[0m \u001b[39mCREATE TABLE course (\u001b[39m\n\u001b[0;32m     <a href='vscode-notebook-cell:/c%3A/Users/Leo/Documents/code/parsiingpdftomysql/mysqltest.ipynb#ch0000014?line=21'>22</a>\u001b[0m \u001b[39m  course_id INT PRIMARY KEY,\u001b[39m\n\u001b[1;32m   (...)\u001b[0m\n\u001b[0;32m     <a href='vscode-notebook-cell:/c%3A/Users/Leo/Documents/code/parsiingpdftomysql/mysqltest.ipynb#ch0000014?line=30'>31</a>\u001b[0m \u001b[39m);\u001b[39m\n\u001b[0;32m     <a href='vscode-notebook-cell:/c%3A/Users/Leo/Documents/code/parsiingpdftomysql/mysqltest.ipynb#ch0000014?line=31'>32</a>\u001b[0m \u001b[39m\"\"\"\u001b[39m\n\u001b[0;32m     <a href='vscode-notebook-cell:/c%3A/Users/Leo/Documents/code/parsiingpdftomysql/mysqltest.ipynb#ch0000014?line=34'>35</a>\u001b[0m connection \u001b[39m=\u001b[39m create_db_connection(\u001b[39m\"\u001b[39m\u001b[39mlocalhost\u001b[39m\u001b[39m\"\u001b[39m, \u001b[39m\"\u001b[39m\u001b[39mroot\u001b[39m\u001b[39m\"\u001b[39m, pw, db)\n\u001b[1;32m---> <a href='vscode-notebook-cell:/c%3A/Users/Leo/Documents/code/parsiingpdftomysql/mysqltest.ipynb#ch0000014?line=35'>36</a>\u001b[0m execute_query(connection, create_client_table)\n\u001b[0;32m     <a href='vscode-notebook-cell:/c%3A/Users/Leo/Documents/code/parsiingpdftomysql/mysqltest.ipynb#ch0000014?line=36'>37</a>\u001b[0m execute_query(connection, create_participant_table)\n\u001b[0;32m     <a href='vscode-notebook-cell:/c%3A/Users/Leo/Documents/code/parsiingpdftomysql/mysqltest.ipynb#ch0000014?line=37'>38</a>\u001b[0m execute_query(connection, create_course_table)\n",
      "\u001b[1;32mc:\\Users\\Leo\\Documents\\code\\parsiingpdftomysql\\mysqltest.ipynb Cell 11'\u001b[0m in \u001b[0;36mexecute_query\u001b[1;34m(connection, query)\u001b[0m\n\u001b[0;32m      <a href='vscode-notebook-cell:/c%3A/Users/Leo/Documents/code/parsiingpdftomysql/mysqltest.ipynb#ch0000010?line=0'>1</a>\u001b[0m \u001b[39mdef\u001b[39;00m \u001b[39mexecute_query\u001b[39m(connection, query):\n\u001b[1;32m----> <a href='vscode-notebook-cell:/c%3A/Users/Leo/Documents/code/parsiingpdftomysql/mysqltest.ipynb#ch0000010?line=1'>2</a>\u001b[0m     cursor \u001b[39m=\u001b[39m connection\u001b[39m.\u001b[39;49mcursor()\n\u001b[0;32m      <a href='vscode-notebook-cell:/c%3A/Users/Leo/Documents/code/parsiingpdftomysql/mysqltest.ipynb#ch0000010?line=2'>3</a>\u001b[0m     \u001b[39mtry\u001b[39;00m:\n\u001b[0;32m      <a href='vscode-notebook-cell:/c%3A/Users/Leo/Documents/code/parsiingpdftomysql/mysqltest.ipynb#ch0000010?line=3'>4</a>\u001b[0m         cursor\u001b[39m.\u001b[39mexecute(query)\n",
      "\u001b[1;31mAttributeError\u001b[0m: 'NoneType' object has no attribute 'cursor'"
     ]
    }
   ],
   "source": [
    "create_client_table = \"\"\"\n",
    "CREATE TABLE client (\n",
    "  client_id INT PRIMARY KEY,\n",
    "  client_name VARCHAR(40) NOT NULL,\n",
    "  address VARCHAR(60) NOT NULL,\n",
    "  industry VARCHAR(20)\n",
    ");\n",
    " \"\"\"\n",
    "\n",
    "create_participant_table = \"\"\"\n",
    "CREATE TABLE participant (\n",
    "  participant_id INT PRIMARY KEY,\n",
    "  first_name VARCHAR(40) NOT NULL,\n",
    "  last_name VARCHAR(40) NOT NULL,\n",
    "  phone_no VARCHAR(20),\n",
    "  client INT\n",
    ");\n",
    "\"\"\"\n",
    "\n",
    "create_course_table = \"\"\"\n",
    "CREATE TABLE course (\n",
    "  course_id INT PRIMARY KEY,\n",
    "  course_name VARCHAR(40) NOT NULL,\n",
    "  language VARCHAR(3) NOT NULL,\n",
    "  level VARCHAR(2),\n",
    "  course_length_weeks INT,\n",
    "  start_date DATE,\n",
    "  in_school BOOLEAN,\n",
    "  teacher INT,\n",
    "  client INT\n",
    ");\n",
    "\"\"\"\n",
    "\n",
    "\n",
    "connection = create_db_connection(\"localhost\", \"root\", pw, db)\n",
    "execute_query(connection, create_client_table)\n",
    "execute_query(connection, create_participant_table)\n",
    "execute_query(connection, create_course_table)"
   ]
  },
  {
   "cell_type": "code",
   "execution_count": 32,
   "metadata": {},
   "outputs": [
    {
     "name": "stdout",
     "output_type": "stream",
     "text": [
      "Error: '1049 (42000): Unknown database 'database''\n"
     ]
    },
    {
     "ename": "AttributeError",
     "evalue": "'NoneType' object has no attribute 'cursor'",
     "output_type": "error",
     "traceback": [
      "\u001b[1;31m---------------------------------------------------------------------------\u001b[0m",
      "\u001b[1;31mAttributeError\u001b[0m                            Traceback (most recent call last)",
      "\u001b[1;32mc:\\Users\\Leo\\Documents\\code\\parsiingpdftomysql\\mysqltest.ipynb Cell 16'\u001b[0m in \u001b[0;36m<cell line: 33>\u001b[1;34m()\u001b[0m\n\u001b[0;32m     <a href='vscode-notebook-cell:/c%3A/Users/Leo/Documents/code/parsiingpdftomysql/mysqltest.ipynb#ch0000015?line=21'>22</a>\u001b[0m create_takescourse_table \u001b[39m=\u001b[39m \u001b[39m\"\"\"\u001b[39m\n\u001b[0;32m     <a href='vscode-notebook-cell:/c%3A/Users/Leo/Documents/code/parsiingpdftomysql/mysqltest.ipynb#ch0000015?line=22'>23</a>\u001b[0m \u001b[39mCREATE TABLE takes_course (\u001b[39m\n\u001b[0;32m     <a href='vscode-notebook-cell:/c%3A/Users/Leo/Documents/code/parsiingpdftomysql/mysqltest.ipynb#ch0000015?line=23'>24</a>\u001b[0m \u001b[39m  participant_id INT,\u001b[39m\n\u001b[1;32m   (...)\u001b[0m\n\u001b[0;32m     <a href='vscode-notebook-cell:/c%3A/Users/Leo/Documents/code/parsiingpdftomysql/mysqltest.ipynb#ch0000015?line=28'>29</a>\u001b[0m \u001b[39m);\u001b[39m\n\u001b[0;32m     <a href='vscode-notebook-cell:/c%3A/Users/Leo/Documents/code/parsiingpdftomysql/mysqltest.ipynb#ch0000015?line=29'>30</a>\u001b[0m \u001b[39m\"\"\"\u001b[39m\n\u001b[0;32m     <a href='vscode-notebook-cell:/c%3A/Users/Leo/Documents/code/parsiingpdftomysql/mysqltest.ipynb#ch0000015?line=31'>32</a>\u001b[0m connection \u001b[39m=\u001b[39m create_db_connection(\u001b[39m\"\u001b[39m\u001b[39mlocalhost\u001b[39m\u001b[39m\"\u001b[39m, \u001b[39m\"\u001b[39m\u001b[39mroot\u001b[39m\u001b[39m\"\u001b[39m, pw, db)\n\u001b[1;32m---> <a href='vscode-notebook-cell:/c%3A/Users/Leo/Documents/code/parsiingpdftomysql/mysqltest.ipynb#ch0000015?line=32'>33</a>\u001b[0m execute_query(connection, alter_participant)\n\u001b[0;32m     <a href='vscode-notebook-cell:/c%3A/Users/Leo/Documents/code/parsiingpdftomysql/mysqltest.ipynb#ch0000015?line=33'>34</a>\u001b[0m execute_query(connection, alter_course)\n\u001b[0;32m     <a href='vscode-notebook-cell:/c%3A/Users/Leo/Documents/code/parsiingpdftomysql/mysqltest.ipynb#ch0000015?line=34'>35</a>\u001b[0m execute_query(connection, alter_course_again)\n",
      "\u001b[1;32mc:\\Users\\Leo\\Documents\\code\\parsiingpdftomysql\\mysqltest.ipynb Cell 11'\u001b[0m in \u001b[0;36mexecute_query\u001b[1;34m(connection, query)\u001b[0m\n\u001b[0;32m      <a href='vscode-notebook-cell:/c%3A/Users/Leo/Documents/code/parsiingpdftomysql/mysqltest.ipynb#ch0000010?line=0'>1</a>\u001b[0m \u001b[39mdef\u001b[39;00m \u001b[39mexecute_query\u001b[39m(connection, query):\n\u001b[1;32m----> <a href='vscode-notebook-cell:/c%3A/Users/Leo/Documents/code/parsiingpdftomysql/mysqltest.ipynb#ch0000010?line=1'>2</a>\u001b[0m     cursor \u001b[39m=\u001b[39m connection\u001b[39m.\u001b[39;49mcursor()\n\u001b[0;32m      <a href='vscode-notebook-cell:/c%3A/Users/Leo/Documents/code/parsiingpdftomysql/mysqltest.ipynb#ch0000010?line=2'>3</a>\u001b[0m     \u001b[39mtry\u001b[39;00m:\n\u001b[0;32m      <a href='vscode-notebook-cell:/c%3A/Users/Leo/Documents/code/parsiingpdftomysql/mysqltest.ipynb#ch0000010?line=3'>4</a>\u001b[0m         cursor\u001b[39m.\u001b[39mexecute(query)\n",
      "\u001b[1;31mAttributeError\u001b[0m: 'NoneType' object has no attribute 'cursor'"
     ]
    }
   ],
   "source": [
    "alter_participant = \"\"\"\n",
    "ALTER TABLE participant\n",
    "ADD FOREIGN KEY(client)\n",
    "REFERENCES client(client_id)\n",
    "ON DELETE SET NULL;\n",
    "\"\"\"\n",
    "\n",
    "alter_course = \"\"\"\n",
    "ALTER TABLE course\n",
    "ADD FOREIGN KEY(teacher)\n",
    "REFERENCES teacher(teacher_id)\n",
    "ON DELETE SET NULL;\n",
    "\"\"\"\n",
    "\n",
    "alter_course_again = \"\"\"\n",
    "ALTER TABLE course\n",
    "ADD FOREIGN KEY(client)\n",
    "REFERENCES client(client_id)\n",
    "ON DELETE SET NULL;\n",
    "\"\"\"\n",
    "\n",
    "create_takescourse_table = \"\"\"\n",
    "CREATE TABLE takes_course (\n",
    "  participant_id INT,\n",
    "  course_id INT,\n",
    "  PRIMARY KEY(participant_id, course_id),\n",
    "  FOREIGN KEY(participant_id) REFERENCES participant(participant_id) ON DELETE CASCADE,\n",
    "  FOREIGN KEY(course_id) REFERENCES course(course_id) ON DELETE CASCADE\n",
    ");\n",
    "\"\"\"\n",
    "\n",
    "connection = create_db_connection(\"localhost\", \"root\", pw, db)\n",
    "execute_query(connection, alter_participant)\n",
    "execute_query(connection, alter_course)\n",
    "execute_query(connection, alter_course_again)\n",
    "execute_query(connection, create_takescourse_table)"
   ]
  },
  {
   "cell_type": "code",
   "execution_count": 33,
   "metadata": {},
   "outputs": [
    {
     "name": "stdout",
     "output_type": "stream",
     "text": [
      "Error: '1049 (42000): Unknown database 'database''\n"
     ]
    },
    {
     "ename": "AttributeError",
     "evalue": "'NoneType' object has no attribute 'cursor'",
     "output_type": "error",
     "traceback": [
      "\u001b[1;31m---------------------------------------------------------------------------\u001b[0m",
      "\u001b[1;31mAttributeError\u001b[0m                            Traceback (most recent call last)",
      "\u001b[1;32mc:\\Users\\Leo\\Documents\\code\\parsiingpdftomysql\\mysqltest.ipynb Cell 17'\u001b[0m in \u001b[0;36m<cell line: 12>\u001b[1;34m()\u001b[0m\n\u001b[0;32m      <a href='vscode-notebook-cell:/c%3A/Users/Leo/Documents/code/parsiingpdftomysql/mysqltest.ipynb#ch0000016?line=0'>1</a>\u001b[0m pop_teacher \u001b[39m=\u001b[39m \u001b[39m\"\"\"\u001b[39m\n\u001b[0;32m      <a href='vscode-notebook-cell:/c%3A/Users/Leo/Documents/code/parsiingpdftomysql/mysqltest.ipynb#ch0000016?line=1'>2</a>\u001b[0m \u001b[39mINSERT INTO teacher VALUES\u001b[39m\n\u001b[0;32m      <a href='vscode-notebook-cell:/c%3A/Users/Leo/Documents/code/parsiingpdftomysql/mysqltest.ipynb#ch0000016?line=2'>3</a>\u001b[0m \u001b[39m(1,  \u001b[39m\u001b[39m'\u001b[39m\u001b[39mJames\u001b[39m\u001b[39m'\u001b[39m\u001b[39m, \u001b[39m\u001b[39m'\u001b[39m\u001b[39mSmith\u001b[39m\u001b[39m'\u001b[39m\u001b[39m, \u001b[39m\u001b[39m'\u001b[39m\u001b[39mENG\u001b[39m\u001b[39m'\u001b[39m\u001b[39m, NULL, \u001b[39m\u001b[39m'\u001b[39m\u001b[39m1985-04-20\u001b[39m\u001b[39m'\u001b[39m\u001b[39m, 12345, \u001b[39m\u001b[39m'\u001b[39m\u001b[39m+491774553676\u001b[39m\u001b[39m'\u001b[39m\u001b[39m),\u001b[39m\n\u001b[1;32m   (...)\u001b[0m\n\u001b[0;32m      <a href='vscode-notebook-cell:/c%3A/Users/Leo/Documents/code/parsiingpdftomysql/mysqltest.ipynb#ch0000016?line=7'>8</a>\u001b[0m \u001b[39m(6, \u001b[39m\u001b[39m'\u001b[39m\u001b[39mNiamh\u001b[39m\u001b[39m'\u001b[39m\u001b[39m, \u001b[39m\u001b[39m'\u001b[39m\u001b[39mMurphy\u001b[39m\u001b[39m'\u001b[39m\u001b[39m, \u001b[39m\u001b[39m'\u001b[39m\u001b[39mENG\u001b[39m\u001b[39m'\u001b[39m\u001b[39m, \u001b[39m\u001b[39m'\u001b[39m\u001b[39mIRI\u001b[39m\u001b[39m'\u001b[39m\u001b[39m, \u001b[39m\u001b[39m'\u001b[39m\u001b[39m1995-09-08\u001b[39m\u001b[39m'\u001b[39m\u001b[39m,  67890, \u001b[39m\u001b[39m'\u001b[39m\u001b[39m+491231231232\u001b[39m\u001b[39m'\u001b[39m\u001b[39m);\u001b[39m\n\u001b[0;32m      <a href='vscode-notebook-cell:/c%3A/Users/Leo/Documents/code/parsiingpdftomysql/mysqltest.ipynb#ch0000016?line=8'>9</a>\u001b[0m \u001b[39m\"\"\"\u001b[39m\n\u001b[0;32m     <a href='vscode-notebook-cell:/c%3A/Users/Leo/Documents/code/parsiingpdftomysql/mysqltest.ipynb#ch0000016?line=10'>11</a>\u001b[0m connection \u001b[39m=\u001b[39m create_db_connection(\u001b[39m\"\u001b[39m\u001b[39mlocalhost\u001b[39m\u001b[39m\"\u001b[39m, \u001b[39m\"\u001b[39m\u001b[39mroot\u001b[39m\u001b[39m\"\u001b[39m, pw, db)\n\u001b[1;32m---> <a href='vscode-notebook-cell:/c%3A/Users/Leo/Documents/code/parsiingpdftomysql/mysqltest.ipynb#ch0000016?line=11'>12</a>\u001b[0m execute_query(connection, pop_teacher)\n",
      "\u001b[1;32mc:\\Users\\Leo\\Documents\\code\\parsiingpdftomysql\\mysqltest.ipynb Cell 11'\u001b[0m in \u001b[0;36mexecute_query\u001b[1;34m(connection, query)\u001b[0m\n\u001b[0;32m      <a href='vscode-notebook-cell:/c%3A/Users/Leo/Documents/code/parsiingpdftomysql/mysqltest.ipynb#ch0000010?line=0'>1</a>\u001b[0m \u001b[39mdef\u001b[39;00m \u001b[39mexecute_query\u001b[39m(connection, query):\n\u001b[1;32m----> <a href='vscode-notebook-cell:/c%3A/Users/Leo/Documents/code/parsiingpdftomysql/mysqltest.ipynb#ch0000010?line=1'>2</a>\u001b[0m     cursor \u001b[39m=\u001b[39m connection\u001b[39m.\u001b[39;49mcursor()\n\u001b[0;32m      <a href='vscode-notebook-cell:/c%3A/Users/Leo/Documents/code/parsiingpdftomysql/mysqltest.ipynb#ch0000010?line=2'>3</a>\u001b[0m     \u001b[39mtry\u001b[39;00m:\n\u001b[0;32m      <a href='vscode-notebook-cell:/c%3A/Users/Leo/Documents/code/parsiingpdftomysql/mysqltest.ipynb#ch0000010?line=3'>4</a>\u001b[0m         cursor\u001b[39m.\u001b[39mexecute(query)\n",
      "\u001b[1;31mAttributeError\u001b[0m: 'NoneType' object has no attribute 'cursor'"
     ]
    }
   ],
   "source": [
    "pop_teacher = \"\"\"\n",
    "INSERT INTO teacher VALUES\n",
    "(1,  'James', 'Smith', 'ENG', NULL, '1985-04-20', 12345, '+491774553676'),\n",
    "(2, 'Stefanie',  'Martin',  'FRA', NULL,  '1970-02-17', 23456, '+491234567890'), \n",
    "(3, 'Steve', 'Wang',  'MAN', 'ENG', '1990-11-12', 34567, '+447840921333'),\n",
    "(4, 'Friederike',  'Müller-Rossi', 'DEU', 'ITA', '1987-07-07',  45678, '+492345678901'),\n",
    "(5, 'Isobel', 'Ivanova', 'RUS', 'ENG', '1963-05-30',  56789, '+491772635467'),\n",
    "(6, 'Niamh', 'Murphy', 'ENG', 'IRI', '1995-09-08',  67890, '+491231231232');\n",
    "\"\"\"\n",
    "\n",
    "connection = create_db_connection(\"localhost\", \"root\", pw, db)\n",
    "execute_query(connection, pop_teacher)"
   ]
  },
  {
   "cell_type": "code",
   "execution_count": null,
   "metadata": {},
   "outputs": [],
   "source": [
    "pop_client = \"\"\"\n",
    "INSERT INTO client VALUES\n",
    "(101, 'Big Business Federation', '123 Falschungstraße, 10999 Berlin', 'NGO'),\n",
    "(102, 'eCommerce GmbH', '27 Ersatz Allee, 10317 Berlin', 'Retail'),\n",
    "(103, 'AutoMaker AG',  '20 Künstlichstraße, 10023 Berlin', 'Auto'),\n",
    "(104, 'Banko Bank',  '12 Betrugstraße, 12345 Berlin', 'Banking'),\n",
    "(105, 'WeMoveIt GmbH', '138 Arglistweg, 10065 Berlin', 'Logistics');\n",
    "\"\"\"\n",
    "\n",
    "pop_participant = \"\"\"\n",
    "INSERT INTO participant VALUES\n",
    "(101, 'Marina', 'Berg','491635558182', 101),\n",
    "(102, 'Andrea', 'Duerr', '49159555740', 101),\n",
    "(103, 'Philipp', 'Probst',  '49155555692', 102),\n",
    "(104, 'René',  'Brandt',  '4916355546',  102),\n",
    "(105, 'Susanne', 'Shuster', '49155555779', 102),\n",
    "(106, 'Christian', 'Schreiner', '49162555375', 101),\n",
    "(107, 'Harry', 'Kim', '49177555633', 101),\n",
    "(108, 'Jan', 'Nowak', '49151555824', 101),\n",
    "(109, 'Pablo', 'Garcia',  '49162555176', 101),\n",
    "(110, 'Melanie', 'Dreschler', '49151555527', 103),\n",
    "(111, 'Dieter', 'Durr',  '49178555311', 103),\n",
    "(112, 'Max', 'Mustermann', '49152555195', 104),\n",
    "(113, 'Maxine', 'Mustermann', '49177555355', 104),\n",
    "(114, 'Heiko', 'Fleischer', '49155555581', 105);\n",
    "\"\"\"\n",
    "\n",
    "pop_course = \"\"\"\n",
    "INSERT INTO course VALUES\n",
    "(12, 'English for Logistics', 'ENG', 'A1', 10, '2020-02-01', TRUE,  1, 105),\n",
    "(13, 'Beginner English', 'ENG', 'A2', 40, '2019-11-12',  FALSE, 6, 101),\n",
    "(14, 'Intermediate English', 'ENG', 'B2', 40, '2019-11-12', FALSE, 6, 101),\n",
    "(15, 'Advanced English', 'ENG', 'C1', 40, '2019-11-12', FALSE, 6, 101),\n",
    "(16, 'Mandarin für Autoindustrie', 'MAN', 'B1', 15, '2020-01-15', TRUE, 3, 103),\n",
    "(17, 'Français intermédiaire', 'FRA', 'B1',  18, '2020-04-03', FALSE, 2, 101),\n",
    "(18, 'Deutsch für Anfänger', 'DEU', 'A2', 8, '2020-02-14', TRUE, 4, 102),\n",
    "(19, 'Intermediate English', 'ENG', 'B2', 10, '2020-03-29', FALSE, 1, 104),\n",
    "(20, 'Fortgeschrittenes Russisch', 'RUS', 'C1',  4, '2020-04-08',  FALSE, 5, 103);\n",
    "\"\"\"\n",
    "\n",
    "pop_takescourse = \"\"\"\n",
    "INSERT INTO takes_course VALUES\n",
    "(101, 15),\n",
    "(101, 17),\n",
    "(102, 17),\n",
    "(103, 18),\n",
    "(104, 18),\n",
    "(105, 18),\n",
    "(106, 13),\n",
    "(107, 13),\n",
    "(108, 13),\n",
    "(109, 14),\n",
    "(109, 15),\n",
    "(110, 16),\n",
    "(110, 20),\n",
    "(111, 16),\n",
    "(114, 12),\n",
    "(112, 19),\n",
    "(113, 19);\n",
    "\"\"\"\n",
    "\n",
    "connection = create_db_connection(\"localhost\", \"root\", pw, db)\n",
    "execute_query(connection, pop_client)\n",
    "execute_query(connection, pop_participant)\n",
    "execute_query(connection, pop_course)\n",
    "execute_query(connection, pop_takescourse)"
   ]
  },
  {
   "cell_type": "code",
   "execution_count": null,
   "metadata": {},
   "outputs": [],
   "source": [
    "def read_query(connection, query):\n",
    "    cursor = connection.cursor()\n",
    "    result = None\n",
    "    try:\n",
    "        cursor.execute(query)\n",
    "        result = cursor.fetchall()\n",
    "        return result\n",
    "    except Error as err:\n",
    "        print(f\"Error: '{err}'\")"
   ]
  },
  {
   "cell_type": "code",
   "execution_count": null,
   "metadata": {},
   "outputs": [],
   "source": [
    "q1 = \"\"\"\n",
    "SELECT *\n",
    "FROM teacher;\n",
    "\"\"\"\n",
    "\n",
    "connection = create_db_connection(\"localhost\", \"root\", pw, db)\n",
    "results = read_query(connection, q1)\n",
    "\n",
    "for result in results:\n",
    "  print(result)"
   ]
  },
  {
   "cell_type": "code",
   "execution_count": null,
   "metadata": {},
   "outputs": [],
   "source": [
    "q5 = \"\"\"\n",
    "SELECT course.course_id, course.course_name, course.language, client.client_name, client.address\n",
    "FROM course\n",
    "JOIN client\n",
    "ON course.client = client.client_id\n",
    "WHERE course.in_school = FALSE;\n",
    "\"\"\"\n",
    "\n",
    "connection = create_db_connection(\"localhost\", \"root\", pw, db)\n",
    "results = read_query(connection, q5)\n",
    "\n",
    "for result in results:\n",
    "  print(result)"
   ]
  },
  {
   "cell_type": "code",
   "execution_count": null,
   "metadata": {},
   "outputs": [],
   "source": [
    "#Inicializa uma lista vazia \n",
    "from_db = []\n",
    "\n",
    "# Percorrer os resultados e inseri-los à lista\n",
    "\n",
    "# Retorna uma lista de tuplas\n",
    "for result in results:\n",
    "  result = result\n",
    "  from_db.append(result)"
   ]
  },
  {
   "cell_type": "code",
   "execution_count": null,
   "metadata": {},
   "outputs": [],
   "source": [
    "# Retorna uma lista de listas\n",
    "from_db = []\n",
    "\n",
    "for result in results:\n",
    "  result = list(result)\n",
    "  from_db.append(result)"
   ]
  },
  {
   "cell_type": "code",
   "execution_count": null,
   "metadata": {},
   "outputs": [],
   "source": [
    "# Retorna uma lista de listas e cria um DataFrame do Pandas\n",
    "from_db = []\n",
    "\n",
    "for result in results:\n",
    "  result = list(result)\n",
    "  from_db.append(result)\n",
    "\n",
    "\n",
    "columns = [\"course_id\", \"course_name\", \"language\", \"client_name\", \"address\"]\n",
    "df = pd.DataFrame(from_db, columns=columns)"
   ]
  },
  {
   "cell_type": "code",
   "execution_count": null,
   "metadata": {},
   "outputs": [],
   "source": [
    "update = \"\"\"\n",
    "UPDATE client \n",
    "SET address = '23 Fingiertweg, 14534 Berlin' \n",
    "WHERE client_id = 101;\n",
    "\"\"\"\n",
    "\n",
    "connection = create_db_connection(\"localhost\", \"root\", pw, db)\n",
    "execute_query(connection, update)"
   ]
  },
  {
   "cell_type": "code",
   "execution_count": null,
   "metadata": {},
   "outputs": [],
   "source": [
    "delete_course = \"\"\"\n",
    "DELETE FROM course \n",
    "WHERE course_id = 20;\n",
    "\"\"\"\n",
    "\n",
    "connection = create_db_connection(\"localhost\", \"root\", pw, db)\n",
    "execute_query(connection, delete_course)"
   ]
  },
  {
   "cell_type": "markdown",
   "metadata": {},
   "source": [
    "CRIAR REGISTRO APARTIR DE LISTAS"
   ]
  },
  {
   "cell_type": "code",
   "execution_count": null,
   "metadata": {},
   "outputs": [],
   "source": [
    "def execute_list_query(connection, sql, val):\n",
    "    cursor = connection.cursor()\n",
    "    try:\n",
    "        cursor.executemany(sql, val)\n",
    "        connection.commit()\n",
    "        print(\"Query successful\")\n",
    "    except Error as err:\n",
    "        print(f\"Error: '{err}'\")"
   ]
  },
  {
   "cell_type": "code",
   "execution_count": null,
   "metadata": {},
   "outputs": [],
   "source": [
    "sql = '''\n",
    "    INSERT INTO teacher (teacher_id, first_name, last_name, language_1, language_2, dob, tax_id, phone_no) \n",
    "    VALUES (%s, %s, %s, %s, %s, %s, %s, %s)\n",
    "    '''\n",
    "    \n",
    "val = [\n",
    "    (7, 'Hank', 'Dodson', 'ENG', None, '1991-12-23', 11111, '+491772345678'), \n",
    "    (8, 'Sue', 'Perkins', 'MAN', 'ENG', '1976-02-02', 22222, '+491443456432')\n",
    "]"
   ]
  },
  {
   "cell_type": "code",
   "execution_count": null,
   "metadata": {},
   "outputs": [],
   "source": [
    "connection = create_db_connection(\"localhost\", \"root\", pw, db)\n",
    "execute_list_query(connection, sql, val)"
   ]
  },
  {
   "cell_type": "markdown",
   "metadata": {},
   "source": [
    "CURSO BÓSON TREINAMENTOS\n",
    "https://www.youtube.com/watch?v=FXlixv8Ieoc"
   ]
  },
  {
   "cell_type": "code",
   "execution_count": 9,
   "metadata": {},
   "outputs": [
    {
     "name": "stdout",
     "output_type": "stream",
     "text": [
      "conectado ao servidor mysql versão 5.7.37-log\n",
      "conectado ao banco de dados ('db_meuslivros',)\n"
     ]
    },
    {
     "ename": "AttributeError",
     "evalue": "'CMySQLConnection' object has no attribute 'is_connect'",
     "output_type": "error",
     "traceback": [
      "\u001b[1;31m---------------------------------------------------------------------------\u001b[0m",
      "\u001b[1;31mAttributeError\u001b[0m                            Traceback (most recent call last)",
      "\u001b[1;32mc:\\Users\\Leo\\Documents\\code\\parsiingpdftomysql\\aprendendosqlpy.ipynb Cell 33'\u001b[0m in \u001b[0;36m<cell line: 12>\u001b[1;34m()\u001b[0m\n\u001b[0;32m      <a href='vscode-notebook-cell:/c%3A/Users/Leo/Documents/code/parsiingpdftomysql/aprendendosqlpy.ipynb#ch0000032?line=8'>9</a>\u001b[0m     linha \u001b[39m=\u001b[39m cursor\u001b[39m.\u001b[39mfetchone()\n\u001b[0;32m     <a href='vscode-notebook-cell:/c%3A/Users/Leo/Documents/code/parsiingpdftomysql/aprendendosqlpy.ipynb#ch0000032?line=9'>10</a>\u001b[0m     \u001b[39mprint\u001b[39m(\u001b[39m\"\u001b[39m\u001b[39mconectado ao banco de dados\u001b[39m\u001b[39m\"\u001b[39m,linha)\n\u001b[1;32m---> <a href='vscode-notebook-cell:/c%3A/Users/Leo/Documents/code/parsiingpdftomysql/aprendendosqlpy.ipynb#ch0000032?line=11'>12</a>\u001b[0m \u001b[39mif\u001b[39;00m con\u001b[39m.\u001b[39;49mis_connect():\n\u001b[0;32m     <a href='vscode-notebook-cell:/c%3A/Users/Leo/Documents/code/parsiingpdftomysql/aprendendosqlpy.ipynb#ch0000032?line=12'>13</a>\u001b[0m     cursor\u001b[39m.\u001b[39mclose()\n\u001b[0;32m     <a href='vscode-notebook-cell:/c%3A/Users/Leo/Documents/code/parsiingpdftomysql/aprendendosqlpy.ipynb#ch0000032?line=13'>14</a>\u001b[0m     con\u001b[39m.\u001b[39mclose()\n",
      "\u001b[1;31mAttributeError\u001b[0m: 'CMySQLConnection' object has no attribute 'is_connect'"
     ]
    }
   ],
   "source": [
    "import mysql.connector\n",
    "con = mysql.connector.connect(host='localhost',database='db_meuslivros',user='root',password='jude')\n",
    "\n",
    "if con.is_connected():\n",
    "    db_info = con.get_server_info()\n",
    "    print(\"conectado ao servidor mysql versão\",db_info)\n",
    "    cursor = con.cursor()\n",
    "    cursor.execute(\"Select database();\")\n",
    "    linha = cursor.fetchone()\n",
    "    print(\"conectado ao banco de dados\",linha)\n",
    "\n",
    "if con.is_connect():\n",
    "    cursor.close()\n",
    "    con.close()\n",
    "    print(\"A conexão ao mysql foi encerrada\")"
   ]
  },
  {
   "cell_type": "code",
   "execution_count": 8,
   "metadata": {},
   "outputs": [],
   "source": [
    "import mysql.connector\n",
    "\n",
    "mydb = mysql.connector.connect(\n",
    "  host=\"localhost\",\n",
    "  user=\"root\",\n",
    "  password=\"jude\"\n",
    ")\n",
    "\n",
    "mycursor = mydb.cursor()\n",
    "\n",
    "mycursor.execute(\"CREATE DATABASE db_meuslivros\")"
   ]
  },
  {
   "cell_type": "code",
   "execution_count": 3,
   "metadata": {},
   "outputs": [
    {
     "name": "stdout",
     "output_type": "stream",
     "text": [
      "('information_schema',)\n",
      "('mydatabase',)\n",
      "('mysql',)\n",
      "('performance_schema',)\n",
      "('sakila',)\n",
      "('school',)\n",
      "('sys',)\n",
      "('world',)\n"
     ]
    }
   ],
   "source": [
    "import mysql.connector\n",
    "\n",
    "mydb = mysql.connector.connect(\n",
    "  host=\"localhost\",\n",
    "  user=\"root\",\n",
    "  password=\"jude\"\n",
    ")\n",
    "\n",
    "mycursor = mydb.cursor()\n",
    "\n",
    "mycursor.execute(\"SHOW DATABASES\")\n",
    "\n",
    "for x in mycursor:\n",
    "  print(x)"
   ]
  },
  {
   "cell_type": "code",
   "execution_count": 6,
   "metadata": {},
   "outputs": [],
   "source": [
    "import mysql.connector\n",
    "\n",
    "mydb = mysql.connector.connect(\n",
    "  host=\"localhost\",\n",
    "  user=\"root\",\n",
    "  password=\"jude\",\n",
    "  database=\"mydatabase\"\n",
    ")"
   ]
  }
 ],
 "metadata": {
  "interpreter": {
   "hash": "bc067272fb9bde0ae297d24067dde9ef56c799ecc91635188f82355b304247ee"
  },
  "kernelspec": {
   "display_name": "Python 3.9.10 ('pdfparsingenv')",
   "language": "python",
   "name": "python3"
  },
  "language_info": {
   "codemirror_mode": {
    "name": "ipython",
    "version": 3
   },
   "file_extension": ".py",
   "mimetype": "text/x-python",
   "name": "python",
   "nbconvert_exporter": "python",
   "pygments_lexer": "ipython3",
   "version": "3.9.10"
  },
  "orig_nbformat": 4
 },
 "nbformat": 4,
 "nbformat_minor": 2
}
