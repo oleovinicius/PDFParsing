{
 "cells": [
  {
   "cell_type": "code",
   "execution_count": 2,
   "metadata": {},
   "outputs": [],
   "source": [
    "file_path = r\"pdftoparsing.pdf\""
   ]
  },
  {
   "cell_type": "code",
   "execution_count": 3,
   "metadata": {},
   "outputs": [
    {
     "name": "stderr",
     "output_type": "stream",
     "text": [
      "Deprecation: 'getPageImageList' removed from class 'Document' after v1.19 - use 'get_page_images'.\n",
      "Deprecation: 'writePNG' removed from class 'Pixmap' after v1.19 - use 'save'.\n"
     ]
    }
   ],
   "source": [
    "import fitz\n",
    "doc = fitz.open(file_path)\n",
    "for i in range(len(doc)):\n",
    "    for img in doc.getPageImageList(i):\n",
    "        xref = img[0]\n",
    "        pix = fitz.Pixmap(doc, xref)\n",
    "        if pix.n < 5:       # this is GRAY or RGB\n",
    "            pix.writePNG(\"p%s-%s.png\" % (i, xref))\n",
    "        else:               # CMYK: convert to RGB first\n",
    "            pix1 = fitz.Pixmap(fitz.csRGB, pix)\n",
    "            pix1.writePNG(\"p%s-%s.png\" % (i, xref))\n",
    "            pix1 = None\n",
    "        pix = None"
   ]
  },
  {
   "cell_type": "code",
   "execution_count": 18,
   "metadata": {},
   "outputs": [
    {
     "name": "stdout",
     "output_type": "stream",
     "text": [
      "12 detected\n"
     ]
    },
    {
     "name": "stderr",
     "output_type": "stream",
     "text": [
      "Deprecation: 'getPageImageList' removed from class 'Document' after v1.19 - use 'get_page_images'.\n",
      "Deprecation: 'writePNG' removed from class 'Pixmap' after v1.19 - use 'save'.\n"
     ]
    }
   ],
   "source": [
    "#import the library\n",
    "import fitz\n",
    "\n",
    "file = r\"pdftoparsing.pdf\"\n",
    "\n",
    "#open the fitz file\n",
    "pdf = fitz.open(file)\n",
    "\n",
    "#select the page number\n",
    "image_list = pdf.getPageImageList(0)\n",
    "\n",
    "#applying the loop\n",
    "for image in image_list:\n",
    "   xref = image[0]\n",
    "   pix = fitz.Pixmap(pdf, xref)\n",
    "   if pix.n < 5:\n",
    "       pix.writePNG(f'{xref}.png')\n",
    "   else:\n",
    "       pix1 = fitz.open(fitz.csRGB, pix)\n",
    "       pix1.writePNG(f'{xref}.png')\n",
    "       pix1 = None\n",
    "   pix = None\n",
    "\n",
    "#print the images\n",
    "print(len(image_list), 'detected')"
   ]
  },
  {
   "cell_type": "code",
   "execution_count": 18,
   "metadata": {},
   "outputs": [
    {
     "data": {
      "text/plain": [
       "1"
      ]
     },
     "execution_count": 18,
     "metadata": {},
     "output_type": "execute_result"
    }
   ],
   "source": [
    "len(doc)"
   ]
  },
  {
   "cell_type": "code",
   "execution_count": 17,
   "metadata": {},
   "outputs": [
    {
     "name": "stdout",
     "output_type": "stream",
     "text": [
      "Image Dimension    :  (120, 120, 3)\n",
      "Image Height       :  120\n",
      "Image Width        :  120\n",
      "Number of Channels :  3\n"
     ]
    }
   ],
   "source": [
    "num_paginas = len(doc)\n",
    "import cv2\n",
    " \n",
    "# read image\n",
    "img = cv2.imread(r'C:\\Users\\Leo\\Documents\\code\\pdfparsing\\p0-6.png')\n",
    " \n",
    "# get dimensions of image\n",
    "dimensions = img.shape\n",
    " \n",
    "# height, width, number of channels in image\n",
    "height = img.shape[0]\n",
    "width = img.shape[1]\n",
    "channels = img.shape[2]\n",
    " \n",
    "print('Image Dimension    : ',dimensions)\n",
    "print('Image Height       : ',height)\n",
    "print('Image Width        : ',width)\n",
    "print('Number of Channels : ',channels)"
   ]
  },
  {
   "cell_type": "code",
   "execution_count": 16,
   "metadata": {},
   "outputs": [
    {
     "ename": "NotADirectoryError",
     "evalue": "[WinError 267] O nome do diretório é inválido: 'C:\\\\Users\\\\Leo\\\\Documents\\\\code\\\\parsiingpdftomysql\\\\pdftoparsing.pdf'",
     "output_type": "error",
     "traceback": [
      "\u001b[1;31m---------------------------------------------------------------------------\u001b[0m",
      "\u001b[1;31mNotADirectoryError\u001b[0m                        Traceback (most recent call last)",
      "\u001b[1;32mc:\\Users\\Leo\\Documents\\code\\parsiingpdftomysql\\02-teste-fitz.ipynb Cell 5'\u001b[0m in \u001b[0;36m<cell line: 3>\u001b[1;34m()\u001b[0m\n\u001b[0;32m      <a href='vscode-notebook-cell:/c%3A/Users/Leo/Documents/code/parsiingpdftomysql/02-teste-fitz.ipynb#ch0000004?line=0'>1</a>\u001b[0m \u001b[39mimport\u001b[39;00m \u001b[39mglob\u001b[39;00m\u001b[39m,\u001b[39m \u001b[39mos\u001b[39;00m\n\u001b[0;32m      <a href='vscode-notebook-cell:/c%3A/Users/Leo/Documents/code/parsiingpdftomysql/02-teste-fitz.ipynb#ch0000004?line=1'>2</a>\u001b[0m paths_image \u001b[39m=\u001b[39m []\n\u001b[1;32m----> <a href='vscode-notebook-cell:/c%3A/Users/Leo/Documents/code/parsiingpdftomysql/02-teste-fitz.ipynb#ch0000004?line=2'>3</a>\u001b[0m os\u001b[39m.\u001b[39;49mchdir(\u001b[39mr\u001b[39;49m\u001b[39m\"\u001b[39;49m\u001b[39mC:\u001b[39;49m\u001b[39m\\\u001b[39;49m\u001b[39mUsers\u001b[39;49m\u001b[39m\\\u001b[39;49m\u001b[39mLeo\u001b[39;49m\u001b[39m\\\u001b[39;49m\u001b[39mDocuments\u001b[39;49m\u001b[39m\\\u001b[39;49m\u001b[39mcode\u001b[39;49m\u001b[39m\\\u001b[39;49m\u001b[39mparsiingpdftomysql\u001b[39;49m\u001b[39m\\\u001b[39;49m\u001b[39mpdftoparsing.pdf\u001b[39;49m\u001b[39m\"\u001b[39;49m)\n\u001b[0;32m      <a href='vscode-notebook-cell:/c%3A/Users/Leo/Documents/code/parsiingpdftomysql/02-teste-fitz.ipynb#ch0000004?line=3'>4</a>\u001b[0m \u001b[39mfor\u001b[39;00m file \u001b[39min\u001b[39;00m \u001b[39msorted\u001b[39m(glob\u001b[39m.\u001b[39mglob(\u001b[39m\"\u001b[39m\u001b[39m*.png\u001b[39m\u001b[39m\"\u001b[39m), key\u001b[39m=\u001b[39mos\u001b[39m.\u001b[39mpath\u001b[39m.\u001b[39mgetmtime):\n\u001b[0;32m      <a href='vscode-notebook-cell:/c%3A/Users/Leo/Documents/code/parsiingpdftomysql/02-teste-fitz.ipynb#ch0000004?line=4'>5</a>\u001b[0m     \u001b[39mprint\u001b[39m(file)\n",
      "\u001b[1;31mNotADirectoryError\u001b[0m: [WinError 267] O nome do diretório é inválido: 'C:\\\\Users\\\\Leo\\\\Documents\\\\code\\\\parsiingpdftomysql\\\\pdftoparsing.pdf'"
     ]
    }
   ],
   "source": [
    "import glob, os\n",
    "paths_image = []\n",
    "os.chdir(r\"C:\\Users\\Leo\\Documents\\code\\parsiingpdftomysql\\pdftoparsing.pdf\")\n",
    "for file in sorted(glob.glob(\"*.png\"), key=os.path.getmtime):\n",
    "    print(file)\n",
    "    paths_image.append(file)"
   ]
  },
  {
   "cell_type": "code",
   "execution_count": 12,
   "metadata": {},
   "outputs": [
    {
     "ename": "IndexError",
     "evalue": "list index out of range",
     "output_type": "error",
     "traceback": [
      "\u001b[1;31m---------------------------------------------------------------------------\u001b[0m",
      "\u001b[1;31mIndexError\u001b[0m                                Traceback (most recent call last)",
      "\u001b[1;32mc:\\Users\\Leo\\Documents\\code\\parsiingpdftomysql\\02-teste-fitz.ipynb Cell 6'\u001b[0m in \u001b[0;36m<cell line: 1>\u001b[1;34m()\u001b[0m\n\u001b[1;32m----> <a href='vscode-notebook-cell:/c%3A/Users/Leo/Documents/code/parsiingpdftomysql/02-teste-fitz.ipynb#ch0000005?line=0'>1</a>\u001b[0m paths_image[\u001b[39m1\u001b[39;49m]\n",
      "\u001b[1;31mIndexError\u001b[0m: list index out of range"
     ]
    }
   ],
   "source": [
    "paths_image[1]"
   ]
  },
  {
   "cell_type": "code",
   "execution_count": 11,
   "metadata": {},
   "outputs": [],
   "source": [
    "import os\n",
    "for file in os.listdir(r\"C:\\Users\\Leo\\Documents\\code\\pdfparsing\"):\n",
    "    if file.endswith(\".png\"):\n",
    "        print(os.path.join(\"\\pdfparsing\", file))"
   ]
  }
 ],
 "metadata": {
  "interpreter": {
   "hash": "bc067272fb9bde0ae297d24067dde9ef56c799ecc91635188f82355b304247ee"
  },
  "kernelspec": {
   "display_name": "Python 3.9.10 ('pdfparsingenv')",
   "language": "python",
   "name": "python3"
  },
  "language_info": {
   "codemirror_mode": {
    "name": "ipython",
    "version": 3
   },
   "file_extension": ".py",
   "mimetype": "text/x-python",
   "name": "python",
   "nbconvert_exporter": "python",
   "pygments_lexer": "ipython3",
   "version": "3.9.10"
  },
  "orig_nbformat": 4
 },
 "nbformat": 4,
 "nbformat_minor": 2
}
