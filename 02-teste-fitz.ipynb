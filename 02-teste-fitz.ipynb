{
 "cells": [
  {
   "cell_type": "code",
   "execution_count": 2,
   "metadata": {},
   "outputs": [],
   "source": [
    "file_path = r\"C:\\Users\\Leo\\Documents\\code\\pdfparsing\\pdftoparsing.pdf\""
   ]
  },
  {
   "cell_type": "code",
   "execution_count": 3,
   "metadata": {},
   "outputs": [
    {
     "name": "stderr",
     "output_type": "stream",
     "text": [
      "Deprecation: 'getPageImageList' removed from class 'Document' after v1.19 - use 'get_page_images'.\n",
      "Deprecation: 'writePNG' removed from class 'Pixmap' after v1.19 - use 'save'.\n"
     ]
    }
   ],
   "source": [
    "import fitz\n",
    "doc = fitz.open(file_path)\n",
    "for i in range(len(doc)):\n",
    "    for img in doc.getPageImageList(i):\n",
    "        xref = img[0]\n",
    "        pix = fitz.Pixmap(doc, xref)\n",
    "        if pix.n < 5:       # this is GRAY or RGB\n",
    "            pix.writePNG(\"p%s-%s.png\" % (i, xref))\n",
    "        else:               # CMYK: convert to RGB first\n",
    "            pix1 = fitz.Pixmap(fitz.csRGB, pix)\n",
    "            pix1.writePNG(\"p%s-%s.png\" % (i, xref))\n",
    "            pix1 = None\n",
    "        pix = None"
   ]
  },
  {
   "cell_type": "code",
   "execution_count": 18,
   "metadata": {},
   "outputs": [
    {
     "data": {
      "text/plain": [
       "1"
      ]
     },
     "execution_count": 18,
     "metadata": {},
     "output_type": "execute_result"
    }
   ],
   "source": [
    "len(doc)"
   ]
  },
  {
   "cell_type": "code",
   "execution_count": 17,
   "metadata": {},
   "outputs": [
    {
     "name": "stdout",
     "output_type": "stream",
     "text": [
      "Image Dimension    :  (120, 120, 3)\n",
      "Image Height       :  120\n",
      "Image Width        :  120\n",
      "Number of Channels :  3\n"
     ]
    }
   ],
   "source": [
    "num_paginas = len(doc)\n",
    "import cv2\n",
    " \n",
    "# read image\n",
    "img = cv2.imread(r'C:\\Users\\Leo\\Documents\\code\\pdfparsing\\p0-6.png')\n",
    " \n",
    "# get dimensions of image\n",
    "dimensions = img.shape\n",
    " \n",
    "# height, width, number of channels in image\n",
    "height = img.shape[0]\n",
    "width = img.shape[1]\n",
    "channels = img.shape[2]\n",
    " \n",
    "print('Image Dimension    : ',dimensions)\n",
    "print('Image Height       : ',height)\n",
    "print('Image Width        : ',width)\n",
    "print('Number of Channels : ',channels)"
   ]
  },
  {
   "cell_type": "code",
   "execution_count": 38,
   "metadata": {},
   "outputs": [
    {
     "name": "stdout",
     "output_type": "stream",
     "text": [
      "p0-10.png\n",
      "p0-9.png\n",
      "p0-8.png\n",
      "p0-7.png\n",
      "p0-6.png\n",
      "p0-2.png\n",
      "p0-1.png\n",
      "p0-15.png\n",
      "p0-14.png\n",
      "p0-13.png\n",
      "p0-12.png\n",
      "p0-11.png\n"
     ]
    }
   ],
   "source": [
    "import glob, os\n",
    "paths_image = []\n",
    "os.chdir(r\"C:\\Users\\Leo\\Documents\\code\\pdfparsing\")\n",
    "for file in sorted(glob.glob(\"*.png\"), key=os.path.getmtime):\n",
    "    print(file)\n",
    "    paths_image.append(file)"
   ]
  },
  {
   "cell_type": "code",
   "execution_count": 27,
   "metadata": {},
   "outputs": [
    {
     "data": {
      "text/plain": [
       "'p0-10.png'"
      ]
     },
     "execution_count": 27,
     "metadata": {},
     "output_type": "execute_result"
    }
   ],
   "source": [
    "paths_image[1]"
   ]
  },
  {
   "cell_type": "code",
   "execution_count": 31,
   "metadata": {},
   "outputs": [
    {
     "name": "stdout",
     "output_type": "stream",
     "text": [
      "\\pdfparsing\\p0-1.png\n",
      "\\pdfparsing\\p0-10.png\n",
      "\\pdfparsing\\p0-11.png\n",
      "\\pdfparsing\\p0-12.png\n",
      "\\pdfparsing\\p0-13.png\n",
      "\\pdfparsing\\p0-14.png\n",
      "\\pdfparsing\\p0-15.png\n",
      "\\pdfparsing\\p0-2.png\n",
      "\\pdfparsing\\p0-6.png\n",
      "\\pdfparsing\\p0-7.png\n",
      "\\pdfparsing\\p0-8.png\n",
      "\\pdfparsing\\p0-9.png\n"
     ]
    }
   ],
   "source": [
    "import os\n",
    "for file in os.listdir(r\"C:\\Users\\Leo\\Documents\\code\\pdfparsing\"):\n",
    "    if file.endswith(\".png\"):\n",
    "        print(os.path.join(\"\\pdfparsing\", file))"
   ]
  }
 ],
 "metadata": {
  "interpreter": {
   "hash": "bc067272fb9bde0ae297d24067dde9ef56c799ecc91635188f82355b304247ee"
  },
  "kernelspec": {
   "display_name": "Python 3.9.10 ('pdfparsingenv')",
   "language": "python",
   "name": "python3"
  },
  "language_info": {
   "codemirror_mode": {
    "name": "ipython",
    "version": 3
   },
   "file_extension": ".py",
   "mimetype": "text/x-python",
   "name": "python",
   "nbconvert_exporter": "python",
   "pygments_lexer": "ipython3",
   "version": "3.9.10"
  },
  "orig_nbformat": 4
 },
 "nbformat": 4,
 "nbformat_minor": 2
}
