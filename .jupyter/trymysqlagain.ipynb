{
 "cells": [
  {
   "cell_type": "code",
   "execution_count": 4,
   "metadata": {},
   "outputs": [],
   "source": [
    "import pyodbc\n",
    "import constructor as cs\n",
    "from constructor import constructorTables"
   ]
  },
  {
   "cell_type": "code",
   "execution_count": 24,
   "metadata": {},
   "outputs": [],
   "source": [
    "class conexaoBancodeDados:\n",
    "    def __init__(self,server,database,username,passwod,df):\n",
    "        self.server = server\n",
    "        self.database = database\n",
    "        self.username = username\n",
    "        self.password = passwod\n",
    "        self.conexao = None\n",
    "        self.cursor = None\n",
    "        self.dataframe = df\n",
    "\n",
    "    def conectandoaoBD(self):\n",
    "        self.conexao = pyodbc.connect(driver='{SQL Server}', host=self.server, database=self.database,\n",
    "                             user=self.username, password=self.password, Trusted_Connection='no')\n",
    "                            \n",
    "        self.cursor = self.conexao.cursor()\n",
    "        \n",
    "    def criandoTabelaAlunos(self):\n",
    "        self.cursor.execute(\"\"\"\n",
    "        CREATE TABLE Alunos (\n",
    "        ra varchar(255) PRIMARY KEY, \n",
    "        nome_aluno varchar(255),\n",
    "        data_nascimento varchar(255),\n",
    "        rg_aluno varchar(255),\n",
    "        cpf_aluno varchar(255),\n",
    "        curso varchar(255),\n",
    "        periodo varchar(255),\n",
    "        expCarteirinha varchar(255),\n",
    "        valCarteirinha varchar(255),\n",
    "        faculdade varchar(255),\n",
    "        rua varchar(255),\n",
    "        telefone varchar(255),\n",
    "        foto varbinary(MAX),\n",
    "        qrcode varbinary(MAX));\n",
    "        \"\"\")\n",
    "        self.conexao.commit()\n",
    "\n",
    "    def inserindoDF(self):\n",
    "        for i in range(len(self.dataframe)):\n",
    "            self.cursor.execute(\"INSERT INTO Alunos (ra, nome_aluno, data_nascimento, rg_aluno, cpf_aluno, curso, periodo, expCarteirinha, valCarteirinha, faculdade, rua, telefone, foto, qrcode) values(?,?,?,?,?,?,?,?,?,?,?,?,?,?)\", self.dataframe.iloc[i,0],self.dataframe.iloc[i,1],self.dataframe.iloc[i,2],self.dataframe.iloc[i,3],self.dataframe.iloc[i,4],self.dataframe.iloc[i,5],self.dataframe.iloc[i,6],self.dataframe.iloc[i,7],self.dataframe.iloc[i,8],self.dataframe.iloc[i,9],self.dataframe.iloc[i,10],self.dataframe.iloc[i,11],self.dataframe.iloc[i,12],self.dataframe.iloc[i,13])\n",
    "        self.conexao.commit()"
   ]
  },
  {
   "cell_type": "code",
   "execution_count": 7,
   "metadata": {},
   "outputs": [],
   "source": [
    "def runconstructor():\n",
    "    path= r\"C:\\Users\\Leo\\Documents\\code\\parsiingpdftomysql\\pdftoparsing.pdf\"\n",
    "    executor = cs.constructorTables(path)\n",
    "    #Extrair Dados do PDF\n",
    "    executor.file_extract()\n",
    "    # Montar o DF\n",
    "    executor.df_construct()\n",
    "    \n",
    "    executor.ImageDirFoto()\n",
    "    executor.convertendoImagemBase64() \n",
    "    executor.adicionandoImagemBase64aoDFFoto()\n",
    "    \n",
    "    executor.ImageDirQrcode()\n",
    "    executor.convertendoImagemBase64() \n",
    "    executor.adicionandoImagemBase64aoDFQrcode()\n",
    "    \n",
    "\n",
    "    print(executor.dataframe)\n",
    "    return executor"
   ]
  },
  {
   "cell_type": "code",
   "execution_count": 20,
   "metadata": {},
   "outputs": [
    {
     "name": "stdout",
     "output_type": "stream",
     "text": [
      "              ra                  nome_aluno data_nascimento   rg_aluno  \\\n",
      "0  1630481813004      CAUÊ NASCIMENTO GUEDES      23/02/2000  58455848X   \n",
      "1  1630481813020  LEONARDO VINÍCIUS DA SILVA      08/09/1998  549672916   \n",
      "2  1630481813041        LUCAS RAFAEL PAULINO      19/05/2000  587900295   \n",
      "\n",
      "     cpf_aluno                                              curso periodo  \\\n",
      "0  47773567875  Curso Superior de Tecnologia em Análise e Dese...   Noite   \n",
      "1  45079019875  Curso Superior de Tecnologia em Análise e Dese...   Noite   \n",
      "2  48544706827  Curso Superior de Tecnologia em Análise e Dese...   Noite   \n",
      "\n",
      "  expCarteirinha valCarteirinha  \\\n",
      "0       22/03/22       21/03/25   \n",
      "1       22/03/22       21/03/25   \n",
      "2       22/03/22       21/03/25   \n",
      "\n",
      "                                           faculdade  \\\n",
      "0  Faculdade de Tecnologia de Mogi Mirim \"Arthur ...   \n",
      "1  Faculdade de Tecnologia de Mogi Mirim \"Arthur ...   \n",
      "2  Faculdade de Tecnologia de Mogi Mirim \"Arthur ...   \n",
      "\n",
      "                                                 rua           telefone  \\\n",
      "0  RUA ARIOVALDO SILVEIRA FRANCO, 567 - JD 31 DE ...  Tel: 19 3806-3139   \n",
      "1  RUA ARIOVALDO SILVEIRA FRANCO, 567 - JD 31 DE ...  Tel: 19 3806-3139   \n",
      "2  RUA ARIOVALDO SILVEIRA FRANCO, 567 - JD 31 DE ...  Tel: 19 3806-3139   \n",
      "\n",
      "                                                foto  \\\n",
      "0  b'iVBORw0KGgoAAAANSUhEUgAAAHgAAAB4CAIAAAC2BqGF...   \n",
      "1  b'iVBORw0KGgoAAAANSUhEUgAAAHgAAAB4CAIAAAC2BqGF...   \n",
      "2  b'iVBORw0KGgoAAAANSUhEUgAAAHgAAAB4CAIAAAC2BqGF...   \n",
      "\n",
      "                                              qrcode  \n",
      "0  b'iVBORw0KGgoAAAANSUhEUgAAAOIAAADiCAIAAADccoyA...  \n",
      "1  b'iVBORw0KGgoAAAANSUhEUgAAAOIAAADiCAIAAADccoyA...  \n",
      "2  b'iVBORw0KGgoAAAANSUhEUgAAAOIAAADiCAIAAADccoyA...  \n"
     ]
    }
   ],
   "source": [
    "exec = runconstructor()\n",
    "df = exec.dataframe\n"
   ]
  },
  {
   "cell_type": "code",
   "execution_count": 26,
   "metadata": {},
   "outputs": [],
   "source": [
    "bd = conexaoBancodeDados('DESKTOP-CLB9370\\SQLEXPRESS','alunos','saito','jude',df)"
   ]
  },
  {
   "cell_type": "code",
   "execution_count": 27,
   "metadata": {},
   "outputs": [],
   "source": [
    "bd.conectandoaoBD()"
   ]
  },
  {
   "cell_type": "code",
   "execution_count": 28,
   "metadata": {},
   "outputs": [],
   "source": [
    "bd.inserindoDF()"
   ]
  }
 ],
 "metadata": {
  "interpreter": {
   "hash": "bc067272fb9bde0ae297d24067dde9ef56c799ecc91635188f82355b304247ee"
  },
  "kernelspec": {
   "display_name": "Python 3.9.10 ('pdfparsingenv')",
   "language": "python",
   "name": "python3"
  },
  "language_info": {
   "codemirror_mode": {
    "name": "ipython",
    "version": 3
   },
   "file_extension": ".py",
   "mimetype": "text/x-python",
   "name": "python",
   "nbconvert_exporter": "python",
   "pygments_lexer": "ipython3",
   "version": "3.9.10"
  },
  "orig_nbformat": 4
 },
 "nbformat": 4,
 "nbformat_minor": 2
}
