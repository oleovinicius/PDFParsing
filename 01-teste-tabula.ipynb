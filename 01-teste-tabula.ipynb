{
 "cells": [
  {
   "cell_type": "markdown",
   "metadata": {},
   "source": [
    "Para criar a venv usei: mkvirtualenv pdfparsingenv\n",
    "Para liberar o acesso no powershell usei:Set-ExecutionPolicy -Scope CurrentUser -ExecutionPolicy RemoteSigned\n",
    "Para Ativar a env usei: C:\\Users\\Leo\\Envs\\pdfparsingenv\\Scripts\\activate.ps1"
   ]
  },
  {
   "cell_type": "code",
   "execution_count": 72,
   "metadata": {},
   "outputs": [
    {
     "ename": "SyntaxError",
     "evalue": "invalid syntax (581989967.py, line 2)",
     "output_type": "error",
     "traceback": [
      "\u001b[1;36m  Input \u001b[1;32mIn [72]\u001b[1;36m\u001b[0m\n\u001b[1;33m    pip installl tabula-py\u001b[0m\n\u001b[1;37m        ^\u001b[0m\n\u001b[1;31mSyntaxError\u001b[0m\u001b[1;31m:\u001b[0m invalid syntax\n"
     ]
    }
   ],
   "source": [
    "#terminal\n",
    "pip installl tabula-py\n",
    "\n",
    "pip install pandas"
   ]
  },
  {
   "cell_type": "code",
   "execution_count": 1,
   "metadata": {},
   "outputs": [],
   "source": [
    "import tabula\n",
    "#the pd is the standard shorthand for pandas\n",
    "import pandas as pd"
   ]
  },
  {
   "cell_type": "code",
   "execution_count": 3,
   "metadata": {},
   "outputs": [
    {
     "data": {
      "text/plain": [
       "[                                          Unnamed: 0   Unnamed: 1  \\\n",
       " 0   Faculdade de Tecnologia de Mogi Mirim \"Arthur de          NaN   \n",
       " 1                                                NaN          NaN   \n",
       " 2                                           Azevedo\"          NaN   \n",
       " 3                                                NaN          NaN   \n",
       " 4                             CAUÊ NASCIMENTO GUEDES          NaN   \n",
       " 5  Curso Superior de Tecnologia em Análise e Dese...          NaN   \n",
       " 6                                           Sistemas          NaN   \n",
       " 7      PERÍODO *1630481813004*RG Noite 58455848X CPF  47773567875   \n",
       " 8                       RA: 1630481813004 NASCIMENTO   23/02/2000   \n",
       " 9                        EXPEDIÇÃO 22/03/22 VALIDADE     21/03/25   \n",
       " \n",
       "   RUA ARIOVALDO SILVEIRA FRANCO, 567 - JD 31 DE MARÇO  \n",
       " 0                                                NaN   \n",
       " 1                     CEP: 13801-005 - Mogi Mirim/SP   \n",
       " 2                                                NaN   \n",
       " 3                                  Tel: 19 3806-3139   \n",
       " 4                                                NaN   \n",
       " 5                                                NaN   \n",
       " 6                                                NaN   \n",
       " 7                                                NaN   \n",
       " 8                                                NaN   \n",
       " 9                                                NaN   ,\n",
       "                                           Unnamed: 0   Unnamed: 1  \\\n",
       " 0   Faculdade de Tecnologia de Mogi Mirim \"Arthur de          NaN   \n",
       " 1                                                NaN          NaN   \n",
       " 2                                           Azevedo\"          NaN   \n",
       " 3                                                NaN          NaN   \n",
       " 4                         LEONARDO VINÍCIUS DA SILVA          NaN   \n",
       " 5  Curso Superior de Tecnologia em Análise e Dese...          NaN   \n",
       " 6                                           Sistemas          NaN   \n",
       " 7      PERÍODO *1630481813020*RG Noite 549672916 CPF  45079019875   \n",
       " 8                       RA: 1630481813020 NASCIMENTO   08/09/1998   \n",
       " 9                        EXPEDIÇÃO 22/03/22 VALIDADE     21/03/25   \n",
       " \n",
       "   RUA ARIOVALDO SILVEIRA FRANCO, 567 - JD 31 DE MARÇO  \n",
       " 0                                                NaN   \n",
       " 1                     CEP: 13801-005 - Mogi Mirim/SP   \n",
       " 2                                                NaN   \n",
       " 3                                  Tel: 19 3806-3139   \n",
       " 4                                                NaN   \n",
       " 5                                                NaN   \n",
       " 6                                                NaN   \n",
       " 7                                                NaN   \n",
       " 8                                                NaN   \n",
       " 9                                                NaN   ,\n",
       "                                           Unnamed: 0   Unnamed: 1  \\\n",
       " 0   Faculdade de Tecnologia de Mogi Mirim \"Arthur de          NaN   \n",
       " 1                                                NaN          NaN   \n",
       " 2                                           Azevedo\"          NaN   \n",
       " 3                                                NaN          NaN   \n",
       " 4                               LUCAS RAFAEL PAULINO          NaN   \n",
       " 5  Curso Superior de Tecnologia em Análise e Dese...          NaN   \n",
       " 6                                           Sistemas          NaN   \n",
       " 7      PERÍODO *1630481813041*RG Noite 587900295 CPF  48544706827   \n",
       " 8                       RA: 1630481813041 NASCIMENTO   19/05/2000   \n",
       " 9                        EXPEDIÇÃO 22/03/22 VALIDADE     21/03/25   \n",
       " \n",
       "   RUA ARIOVALDO SILVEIRA FRANCO, 567 - JD 31 DE MARÇO  \n",
       " 0                                                NaN   \n",
       " 1                     CEP: 13801-005 - Mogi Mirim/SP   \n",
       " 2                                                NaN   \n",
       " 3                                  Tel: 19 3806-3139   \n",
       " 4                                                NaN   \n",
       " 5                                                NaN   \n",
       " 6                                                NaN   \n",
       " 7                                                NaN   \n",
       " 8                                                NaN   \n",
       " 9                                                NaN   ]"
      ]
     },
     "execution_count": 3,
     "metadata": {},
     "output_type": "execute_result"
    }
   ],
   "source": [
    "#declare the path of your file\n",
    "file_path = r\"C:\\Users\\Leo\\Documents\\code\\pdfparsing\\pdftoparsing.pdf\"\n",
    "#Convert your file\n",
    "df = tabula.read_pdf(file_path, pages='all',multiple_tables=True)               \n",
    "df    "
   ]
  },
  {
   "cell_type": "code",
   "execution_count": 44,
   "metadata": {},
   "outputs": [],
   "source": [
    "df_final =pd.DataFrame( {'ra': [], 'nome': [],'dataNascimento':[],\"RG\":[],\"cpf\":[],\"curso\":[],\"periodo\":[],\"expedicao\":[],\"validade\":[],\"nomeFaculdade\":[],\"rua\":[],\"cep\":[],\"telefone\":[],\"foto\":[],\"qrcode\":[]})\n"
   ]
  },
  {
   "cell_type": "code",
   "execution_count": 50,
   "metadata": {},
   "outputs": [
    {
     "ename": "KeyError",
     "evalue": "0",
     "output_type": "error",
     "traceback": [
      "\u001b[1;31m---------------------------------------------------------------------------\u001b[0m",
      "\u001b[1;31mKeyError\u001b[0m                                  Traceback (most recent call last)",
      "File \u001b[1;32m~\\Envs\\pdfparsingenv\\lib\\site-packages\\pandas\\core\\indexes\\base.py:3621\u001b[0m, in \u001b[0;36mIndex.get_loc\u001b[1;34m(self, key, method, tolerance)\u001b[0m\n\u001b[0;32m   <a href='file:///c%3A/Users/Leo/Envs/pdfparsingenv/lib/site-packages/pandas/core/indexes/base.py?line=3619'>3620</a>\u001b[0m \u001b[39mtry\u001b[39;00m:\n\u001b[1;32m-> <a href='file:///c%3A/Users/Leo/Envs/pdfparsingenv/lib/site-packages/pandas/core/indexes/base.py?line=3620'>3621</a>\u001b[0m     \u001b[39mreturn\u001b[39;00m \u001b[39mself\u001b[39;49m\u001b[39m.\u001b[39;49m_engine\u001b[39m.\u001b[39;49mget_loc(casted_key)\n\u001b[0;32m   <a href='file:///c%3A/Users/Leo/Envs/pdfparsingenv/lib/site-packages/pandas/core/indexes/base.py?line=3621'>3622</a>\u001b[0m \u001b[39mexcept\u001b[39;00m \u001b[39mKeyError\u001b[39;00m \u001b[39mas\u001b[39;00m err:\n",
      "File \u001b[1;32m~\\Envs\\pdfparsingenv\\lib\\site-packages\\pandas\\_libs\\index.pyx:136\u001b[0m, in \u001b[0;36mpandas._libs.index.IndexEngine.get_loc\u001b[1;34m()\u001b[0m\n",
      "File \u001b[1;32m~\\Envs\\pdfparsingenv\\lib\\site-packages\\pandas\\_libs\\index.pyx:163\u001b[0m, in \u001b[0;36mpandas._libs.index.IndexEngine.get_loc\u001b[1;34m()\u001b[0m\n",
      "File \u001b[1;32mpandas\\_libs\\hashtable_class_helper.pxi:5198\u001b[0m, in \u001b[0;36mpandas._libs.hashtable.PyObjectHashTable.get_item\u001b[1;34m()\u001b[0m\n",
      "File \u001b[1;32mpandas\\_libs\\hashtable_class_helper.pxi:5206\u001b[0m, in \u001b[0;36mpandas._libs.hashtable.PyObjectHashTable.get_item\u001b[1;34m()\u001b[0m\n",
      "\u001b[1;31mKeyError\u001b[0m: 0",
      "\nThe above exception was the direct cause of the following exception:\n",
      "\u001b[1;31mKeyError\u001b[0m                                  Traceback (most recent call last)",
      "\u001b[1;32mc:\\Users\\Leo\\Documents\\code\\pdfparsing\\01-teste-tabula.ipynb Cell 6'\u001b[0m in \u001b[0;36m<cell line: 1>\u001b[1;34m()\u001b[0m\n\u001b[0;32m      <a href='vscode-notebook-cell:/c%3A/Users/Leo/Documents/code/pdfparsing/01-teste-tabula.ipynb#ch0000012?line=0'>1</a>\u001b[0m \u001b[39mfor\u001b[39;00m i \u001b[39min\u001b[39;00m \u001b[39mrange\u001b[39m(\u001b[39mlen\u001b[39m(df)):\n\u001b[0;32m      <a href='vscode-notebook-cell:/c%3A/Users/Leo/Documents/code/pdfparsing/01-teste-tabula.ipynb#ch0000012?line=1'>2</a>\u001b[0m     \u001b[39m#bagunca = df[i].loc[7][0] # periodo ra tg palavra cpf\u001b[39;00m\n\u001b[0;32m      <a href='vscode-notebook-cell:/c%3A/Users/Leo/Documents/code/pdfparsing/01-teste-tabula.ipynb#ch0000012?line=2'>3</a>\u001b[0m     \u001b[39m#bagunca = [bagunca.split()]\u001b[39;00m\n\u001b[1;32m----> <a href='vscode-notebook-cell:/c%3A/Users/Leo/Documents/code/pdfparsing/01-teste-tabula.ipynb#ch0000012?line=3'>4</a>\u001b[0m     expedicao \u001b[39m=\u001b[39m df[i]\u001b[39m.\u001b[39mloc[\u001b[39m9\u001b[39m][\u001b[39m0\u001b[39m]\n\u001b[0;32m      <a href='vscode-notebook-cell:/c%3A/Users/Leo/Documents/code/pdfparsing/01-teste-tabula.ipynb#ch0000012?line=4'>5</a>\u001b[0m     expedicao \u001b[39m=\u001b[39m [expedicao\u001b[39m.\u001b[39msplit()]\n\u001b[0;32m      <a href='vscode-notebook-cell:/c%3A/Users/Leo/Documents/code/pdfparsing/01-teste-tabula.ipynb#ch0000012?line=5'>6</a>\u001b[0m     curso \u001b[39m=\u001b[39m curso \u001b[39m=\u001b[39m df[i]\u001b[39m.\u001b[39mloc[\u001b[39m5\u001b[39m][\u001b[39m0\u001b[39m] \u001b[39m+\u001b[39m  df[i]\u001b[39m.\u001b[39mloc[\u001b[39m6\u001b[39m][\u001b[39m0\u001b[39m]\n",
      "File \u001b[1;32m~\\Envs\\pdfparsingenv\\lib\\site-packages\\pandas\\core\\frame.py:3505\u001b[0m, in \u001b[0;36mDataFrame.__getitem__\u001b[1;34m(self, key)\u001b[0m\n\u001b[0;32m   <a href='file:///c%3A/Users/Leo/Envs/pdfparsingenv/lib/site-packages/pandas/core/frame.py?line=3502'>3503</a>\u001b[0m \u001b[39mif\u001b[39;00m \u001b[39mself\u001b[39m\u001b[39m.\u001b[39mcolumns\u001b[39m.\u001b[39mnlevels \u001b[39m>\u001b[39m \u001b[39m1\u001b[39m:\n\u001b[0;32m   <a href='file:///c%3A/Users/Leo/Envs/pdfparsingenv/lib/site-packages/pandas/core/frame.py?line=3503'>3504</a>\u001b[0m     \u001b[39mreturn\u001b[39;00m \u001b[39mself\u001b[39m\u001b[39m.\u001b[39m_getitem_multilevel(key)\n\u001b[1;32m-> <a href='file:///c%3A/Users/Leo/Envs/pdfparsingenv/lib/site-packages/pandas/core/frame.py?line=3504'>3505</a>\u001b[0m indexer \u001b[39m=\u001b[39m \u001b[39mself\u001b[39;49m\u001b[39m.\u001b[39;49mcolumns\u001b[39m.\u001b[39;49mget_loc(key)\n\u001b[0;32m   <a href='file:///c%3A/Users/Leo/Envs/pdfparsingenv/lib/site-packages/pandas/core/frame.py?line=3505'>3506</a>\u001b[0m \u001b[39mif\u001b[39;00m is_integer(indexer):\n\u001b[0;32m   <a href='file:///c%3A/Users/Leo/Envs/pdfparsingenv/lib/site-packages/pandas/core/frame.py?line=3506'>3507</a>\u001b[0m     indexer \u001b[39m=\u001b[39m [indexer]\n",
      "File \u001b[1;32m~\\Envs\\pdfparsingenv\\lib\\site-packages\\pandas\\core\\indexes\\base.py:3623\u001b[0m, in \u001b[0;36mIndex.get_loc\u001b[1;34m(self, key, method, tolerance)\u001b[0m\n\u001b[0;32m   <a href='file:///c%3A/Users/Leo/Envs/pdfparsingenv/lib/site-packages/pandas/core/indexes/base.py?line=3620'>3621</a>\u001b[0m     \u001b[39mreturn\u001b[39;00m \u001b[39mself\u001b[39m\u001b[39m.\u001b[39m_engine\u001b[39m.\u001b[39mget_loc(casted_key)\n\u001b[0;32m   <a href='file:///c%3A/Users/Leo/Envs/pdfparsingenv/lib/site-packages/pandas/core/indexes/base.py?line=3621'>3622</a>\u001b[0m \u001b[39mexcept\u001b[39;00m \u001b[39mKeyError\u001b[39;00m \u001b[39mas\u001b[39;00m err:\n\u001b[1;32m-> <a href='file:///c%3A/Users/Leo/Envs/pdfparsingenv/lib/site-packages/pandas/core/indexes/base.py?line=3622'>3623</a>\u001b[0m     \u001b[39mraise\u001b[39;00m \u001b[39mKeyError\u001b[39;00m(key) \u001b[39mfrom\u001b[39;00m \u001b[39merr\u001b[39;00m\n\u001b[0;32m   <a href='file:///c%3A/Users/Leo/Envs/pdfparsingenv/lib/site-packages/pandas/core/indexes/base.py?line=3623'>3624</a>\u001b[0m \u001b[39mexcept\u001b[39;00m \u001b[39mTypeError\u001b[39;00m:\n\u001b[0;32m   <a href='file:///c%3A/Users/Leo/Envs/pdfparsingenv/lib/site-packages/pandas/core/indexes/base.py?line=3624'>3625</a>\u001b[0m     \u001b[39m# If we have a listlike key, _check_indexing_error will raise\u001b[39;00m\n\u001b[0;32m   <a href='file:///c%3A/Users/Leo/Envs/pdfparsingenv/lib/site-packages/pandas/core/indexes/base.py?line=3625'>3626</a>\u001b[0m     \u001b[39m#  InvalidIndexError. Otherwise we fall through and re-raise\u001b[39;00m\n\u001b[0;32m   <a href='file:///c%3A/Users/Leo/Envs/pdfparsingenv/lib/site-packages/pandas/core/indexes/base.py?line=3626'>3627</a>\u001b[0m     \u001b[39m#  the TypeError.\u001b[39;00m\n\u001b[0;32m   <a href='file:///c%3A/Users/Leo/Envs/pdfparsingenv/lib/site-packages/pandas/core/indexes/base.py?line=3627'>3628</a>\u001b[0m     \u001b[39mself\u001b[39m\u001b[39m.\u001b[39m_check_indexing_error(key)\n",
      "\u001b[1;31mKeyError\u001b[0m: 0"
     ]
    }
   ],
   "source": [
    "for i in range(len(df)):\n",
    "    #bagunca = df[i].loc[7][0] # periodo ra tg palavra cpf\n",
    "    #bagunca = [bagunca.split()]\n",
    "    expedicao = df[i].loc[9][0]\n",
    "    expedicao = [expedicao.split()]\n",
    "    curso = curso = df[i].loc[5][0] +  df[i].loc[6][0]\n",
    "    nome_faculdade = nome_faculdade = df[i].loc[0][0] + df[i].loc[2][0]\n",
    "\n",
    "    ############## construção Banco #############\n",
    "    #Dados Aluno\n",
    "    ra = df[i].loc[8][0] # ra do aluno nome data nascimento\n",
    "    nome_aluno = df[i].loc[4][0] # Nome do Aluno\n",
    "    data_nascimento = df[i].loc[8][1] # data de nascimento real\n",
    "    rg_aluno = bagunca[0][3] #RG Real\n",
    "    cpf_aluno= df[i].loc[7][1] # cpf completo\n",
    "    #Dados Curso\n",
    "    curso = df[i].loc[5][0] # Curso completo\n",
    "    periodo= bagunca[0][2] # Periodo real\n",
    "    #Dados Carteirinha\n",
    "    expCarteirinha = expedicao[0][1] # expedição carteirinha\n",
    "    validade_carteirinha = df[i].loc[9][1] # validade da carteirinha\n",
    "    #Dados Fatec\n",
    "    nome_faculdade # Nome da faculdade \n",
    "    ruada_fatec = \"RUA ARIOVALDO SILVEIRA FRANCO, 567 - JD 31 DE MARÇO\" # rua da faculdade\n",
    "    cep = \"CEP: 13801-005 - Mogi Mirim/SP\" # cep e cidade faculdade\n",
    "    telefone_faculdade = \"Tel: 19 3806-3139\" # telefone faculdade\n",
    "    "
   ]
  },
  {
   "cell_type": "code",
   "execution_count": null,
   "metadata": {},
   "outputs": [],
   "source": [
    "df_final =df_final.append( {'ra': ra, 'nome': nome_aluno,'dataNascimento':data_nascimento,\"RG\":rg_aluno,\"cpf\":cpf_aluno,\"curso\":curso,\"periodo\":periodo,\"expedicao\":expedicao,\"validade\":validade_carteirinha,\"nomeFaculdade\":nome_faculdade,\"rua\":ruada_fatec,\"cep\":cep,\"telefone\":telefone_faculdade,\"foto\":[],\"qrcode\":[]})\n",
    "\n"
   ]
  },
  {
   "cell_type": "code",
   "execution_count": null,
   "metadata": {},
   "outputs": [],
   "source": []
  },
  {
   "cell_type": "code",
   "execution_count": 42,
   "metadata": {},
   "outputs": [
    {
     "name": "stdout",
     "output_type": "stream",
     "text": [
      "     Name  Price Stock\n",
      "0  Orange     34   Yes\n",
      "1   Apple     23    No\n",
      "2   Mango     13   Yes\n"
     ]
    },
    {
     "name": "stderr",
     "output_type": "stream",
     "text": [
      "C:\\Users\\Leo\\AppData\\Local\\Temp\\ipykernel_14540\\4223202053.py:8: FutureWarning: The frame.append method is deprecated and will be removed from pandas in a future version. Use pandas.concat instead.\n",
      "  df=df.append({'Name' : 'Apple' , 'Price' : 23, 'Stock' : 'No'} , ignore_index=True)\n",
      "C:\\Users\\Leo\\AppData\\Local\\Temp\\ipykernel_14540\\4223202053.py:9: FutureWarning: The frame.append method is deprecated and will be removed from pandas in a future version. Use pandas.concat instead.\n",
      "  df=df.append({'Name' : 'Mango' , 'Price' : 13, 'Stock' : 'Yes'} , ignore_index=True)\n"
     ]
    }
   ],
   "source": [
    "# python 3.x\n",
    "import pandas as pd\n",
    "# List of Tuples\n",
    "fruit_list = [ ('Orange', 34, 'Yes' )]\n",
    "#Create a DataFrame object\n",
    "df = pd.DataFrame(fruit_list, columns = ['Name' , 'Price', 'Stock'])\n",
    "#Add new ROW\n",
    "df=df.append({'Name' : 'Apple' , 'Price' : 23, 'Stock' : 'No'} , ignore_index=True)\n",
    "df=df.append({'Name' : 'Mango' , 'Price' : 13, 'Stock' : 'Yes'} , ignore_index=True)\n",
    "print(df)"
   ]
  }
 ],
 "metadata": {
  "interpreter": {
   "hash": "ed71a0ddcdf6c8590a5c2c8e5440f88e4d795b7a978960cf40292af574f5a1db"
  },
  "kernelspec": {
   "display_name": "Python 3.10.2 64-bit (windows store)",
   "language": "python",
   "name": "python3"
  },
  "language_info": {
   "codemirror_mode": {
    "name": "ipython",
    "version": 3
   },
   "file_extension": ".py",
   "mimetype": "text/x-python",
   "name": "python",
   "nbconvert_exporter": "python",
   "pygments_lexer": "ipython3",
   "version": "3.9.10"
  },
  "orig_nbformat": 4
 },
 "nbformat": 4,
 "nbformat_minor": 2
}
